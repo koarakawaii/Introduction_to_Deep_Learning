{
 "cells": [
  {
   "cell_type": "code",
   "execution_count": 1,
   "metadata": {},
   "outputs": [
    {
     "name": "stderr",
     "output_type": "stream",
     "text": [
      "/home/lab/anaconda3/envs/mxnet-gpu/lib/python3.5/site-packages/h5py/__init__.py:36: FutureWarning: Conversion of the second argument of issubdtype from `float` to `np.floating` is deprecated. In future, it will be treated as `np.float64 == np.dtype(float).type`.\n",
      "  from ._conv import register_converters as _register_converters\n"
     ]
    }
   ],
   "source": [
    "import numpy as np\n",
    "import os, cv2\n",
    "from mxnet import gluon, nd, image\n",
    "from mxnet.gluon import data as gdata, utils as gutils\n",
    "from shutil import copyfile\n",
    "from mxnet.gluon.data.vision import datasets, transforms"
   ]
  },
  {
   "cell_type": "code",
   "execution_count": 2,
   "metadata": {},
   "outputs": [],
   "source": [
    "target_folder = './Fine_Tuning_Data_2_Origin/'\n",
    "output_folder = './Fine_Tuning_Data_2/'"
   ]
  },
  {
   "cell_type": "markdown",
   "metadata": {},
   "source": [
    "### Training Data Augmentaion"
   ]
  },
  {
   "cell_type": "code",
   "execution_count": 3,
   "metadata": {},
   "outputs": [],
   "source": [
    "files = os.listdir(target_folder)\n",
    "pictures_resized = []\n",
    "for f in files:\n",
    "    if '.jpg' in f:\n",
    "        pictures_resized.append(f)\n",
    "\n",
    "for index in range(len(pictures_resized)):\n",
    "#for index in range(1):\n",
    "    \n",
    "    name = pictures_resized[index]\n",
    "    img = image.imread(target_folder+name)\n",
    "    img_np = img.asnumpy()\n",
    "    num_jitter = 2\n",
    "    #num_jitter = 5\n",
    "    color_aug = gdata.vision.transforms.RandomColorJitter(brightness=0.4, contrast=0.3)\n",
    "    #color_aug = gdata.vision.transforms.RandomColorJitter(brightness=0.25, contrast=0.6)\n",
    "    aug_1 = gdata.vision.transforms.RandomFlipLeftRight()\n",
    "    aug_2 = gdata.vision.transforms.RandomFlipTopBottom()\n",
    "\n",
    "# left-right flip\n",
    "    success = False\n",
    "    while not success:\n",
    "        img_lr_flip = aug_1(img)\n",
    "        img_lr_flip = img_lr_flip.asnumpy()\n",
    "        if (img_lr_flip!=img_np).sum()!=0:\n",
    "            success = True\n",
    "            cv2.imwrite(output_folder+name.split('.')[0]+'_left_right_flipped.jpg', img_lr_flip[:,:,::-1])\n",
    "# top-down flip\n",
    "    success = False\n",
    "    while not success:\n",
    "        img_tb_flip = aug_2(img)\n",
    "        img_tb_flip = img_tb_flip.asnumpy()\n",
    "        if (img_tb_flip!=img_np).sum()!=0:\n",
    "            success = True\n",
    "            cv2.imwrite(output_folder+name.split('.')[0]+'_top_down_flipped.jpg', img_tb_flip[:,:,::-1])\n",
    "# color jitters\n",
    "    for i in range(num_jitter):\n",
    "        name_jitter = str('_color_jitter%d'%(i))\n",
    "        img_color_jitter = color_aug(img)\n",
    "        img_color_jitter_np = img_color_jitter.asnumpy()\n",
    "        cv2.imwrite(output_folder+name.split('.')[0]+name_jitter+'.jpg', img_color_jitter_np[:,:,::-1])\n",
    "# left-right flip-color jitters        \n",
    "        success = False\n",
    "        while not success:\n",
    "            img_lr_flip = aug_1(img_color_jitter)\n",
    "            img_lr_flip = img_lr_flip.asnumpy()\n",
    "            if (img_lr_flip!=img_color_jitter_np).sum()!=0:\n",
    "                success = True\n",
    "                cv2.imwrite(output_folder+name.split('.')[0]+name_jitter+name+'_left_right_flipped.jpg', img_lr_flip[:,:,::-1])\n",
    "# top-down flip-color jitters\n",
    "        success = False\n",
    "        while not success:\n",
    "            img_tb_flip = aug_2(img_color_jitter)\n",
    "            img_tb_flip = img_tb_flip.asnumpy()\n",
    "            if (img_tb_flip!=img_color_jitter_np).sum()!=0:\n",
    "                success = True\n",
    "                cv2.imwrite(output_folder+name.split('.')[0]+name_jitter+name+'_top_down_flipped.jpg', img_tb_flip[:,:,::-1])\n",
    "    copyfile(target_folder+name, output_folder+name)\n",
    "\n",
    "files = os.listdir(output_folder)\n",
    "pictures_list = []\n",
    "for f in files:\n",
    "    if '.jpg' in f:\n",
    "        pictures_list.append(f)\n",
    "        \n",
    "for name in pictures_list:\n",
    "    img = image.imread(output_folder+name)\n",
    "    img_np = img.asnumpy()\n",
    "    \n",
    "    img_transpose = np.zeros_like(img_np)\n",
    "    for channels in range(3):\n",
    "        img_transpose[:,:,channels] = img_np[:,:, channels].T\n",
    "    cv2.imwrite(output_folder+name.split('.')[0]+'_transposed.jpg', img_transpose[:,:,::-1])"
   ]
  }
 ],
 "metadata": {
  "kernelspec": {
   "display_name": "Python 3",
   "language": "python",
   "name": "python3"
  },
  "language_info": {
   "codemirror_mode": {
    "name": "ipython",
    "version": 3
   },
   "file_extension": ".py",
   "mimetype": "text/x-python",
   "name": "python",
   "nbconvert_exporter": "python",
   "pygments_lexer": "ipython3",
   "version": "3.5.5"
  }
 },
 "nbformat": 4,
 "nbformat_minor": 2
}
