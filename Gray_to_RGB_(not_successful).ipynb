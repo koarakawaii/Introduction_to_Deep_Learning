{
 "cells": [
  {
   "cell_type": "code",
   "execution_count": 16,
   "metadata": {},
   "outputs": [],
   "source": [
    "import numpy as np\n",
    "import os, sys, cv2, time\n",
    "import matplotlib.pyplot as plt\n",
    "import mxnet as mx\n",
    "from mxnet import gluon, init, autograd, nd, image\n",
    "from mxnet.gluon import data as gdata, utils as gutils, nn, loss as gloss\n",
    "from mxnet.gluon.data.vision import datasets, transforms\n",
    "from sklearn.metrics import confusion_matrix\n",
    "from ipywidgets import interact, IntSlider"
   ]
  },
  {
   "cell_type": "code",
   "execution_count": 17,
   "metadata": {},
   "outputs": [],
   "source": [
    "#target_folder = 'E:/Guan-Ming/Deep_ML/all_data_resize/'\n",
    "#output_folder = 'E:/Guan-Ming/Deep_ML/all_data_final_transposed/'\n",
    "#test_data_folder = 'E:/Guan-Ming/Deep_ML/test_data_resize/'\n",
    "#extra_validation_target_folder = 'E:/Guan-Ming/Deep_ML/extra_validation_data_resize/'\n",
    "\n",
    "train_x_folder = 'all_data_resize_Grey/'\n",
    "train_y_folder = 'all_data_resize/'\n",
    "test_x_folder = 'test_data_gray_to_RGB/'"
   ]
  },
  {
   "cell_type": "code",
   "execution_count": 18,
   "metadata": {},
   "outputs": [
    {
     "name": "stdout",
     "output_type": "stream",
     "text": [
      "E:\\Guan-Ming\\Deep_ML\n"
     ]
    }
   ],
   "source": [
    "cd E:/Guan-Ming/Deep_ML/"
   ]
  },
  {
   "cell_type": "markdown",
   "metadata": {},
   "source": [
    "### Read in Training Data"
   ]
  },
  {
   "cell_type": "code",
   "execution_count": 19,
   "metadata": {},
   "outputs": [
    {
     "name": "stdout",
     "output_type": "stream",
     "text": [
      "Sum check pass!\n"
     ]
    }
   ],
   "source": [
    "files = os.listdir(train_x_folder)\n",
    "total_data = len(files)\n",
    "train_data_x = nd.zeros((total_data, 256, 256, 3)).astype(np.uint8)\n",
    "train_data_y = nd.zeros((total_data, 256, 256, 3))\n",
    "total_num = 0\n",
    "\n",
    "for index, f in enumerate(files):\n",
    "    train_data_x[index] = image.imread(train_x_folder+f)\n",
    "    label = f.split('_',2)[2]\n",
    "    train_data_y[index] = image.imread(train_y_folder+label)\n",
    "    train_data_y[index] /= 255\n",
    "    total_num += 1\n",
    "    \n",
    "if total_num == total_data:\n",
    "    print(\"Sum check pass!\")"
   ]
  },
  {
   "cell_type": "markdown",
   "metadata": {},
   "source": [
    "### Read in Testing Data"
   ]
  },
  {
   "cell_type": "code",
   "execution_count": 20,
   "metadata": {},
   "outputs": [],
   "source": [
    "files = os.listdir(test_x_folder)\n",
    "total_test_data = len(files)\n",
    "test_data_x = nd.zeros((total_test_data, 256, 256, 3)).astype(np.uint8)\n",
    "total_num = 0\n",
    "\n",
    "for index in range(total_test_data):\n",
    "    f = files[index]\n",
    "    test_data_x[index] = image.imread(test_x_folder+f)\n",
    "        \n",
    "if total_num == total_test_data:\n",
    "    print(\"Sum check pass!\")"
   ]
  },
  {
   "cell_type": "code",
   "execution_count": 21,
   "metadata": {},
   "outputs": [],
   "source": [
    "train_mean = [0.5905187523955868, 0.5332879723913606, 0.49680592040529487]  #over all data\n",
    "train_std = [0.28736647217403904, 0.28094815765222825, 0.2815392173263535]  #over all data"
   ]
  },
  {
   "cell_type": "markdown",
   "metadata": {},
   "source": [
    "### Create Data Iterator"
   ]
  },
  {
   "cell_type": "code",
   "execution_count": 22,
   "metadata": {},
   "outputs": [],
   "source": [
    "batch_size = 8\n",
    "num_workers = 0\n",
    "\n",
    "train_dataset = gdata.ArrayDataset(train_data_x, train_data_y)\n",
    "test_dataset = gdata.ArrayDataset(test_data_x)\n",
    "    \n",
    "transformer = []\n",
    "transformer += [gdata.vision.transforms.ToTensor()] # transer the train data from shape (sample, H, W, channel) to (sample, channel, H, W) and rescale to between 0 and 1 \n",
    "transformer += [gdata.vision.transforms.Normalize(train_mean, train_std)]\n",
    "transformer = gdata.vision.transforms.Compose(transformer)\n",
    "\n",
    "train_iter = gdata.DataLoader(train_dataset.transform_first(transformer), batch_size = batch_size, shuffle=True, num_workers=num_workers)\n",
    "test_iter = gdata.DataLoader(test_dataset.transform_first(transformer), batch_size = batch_size, shuffle=False, num_workers=num_workers)"
   ]
  },
  {
   "cell_type": "markdown",
   "metadata": {},
   "source": [
    "### Define Functions for Training"
   ]
  },
  {
   "cell_type": "code",
   "execution_count": 23,
   "metadata": {},
   "outputs": [],
   "source": [
    "def try_gpu():\n",
    "    \"\"\"If GPU is available, return mx.gpu(0); else return mx.cpu().\"\"\"\n",
    "    try:\n",
    "        ctx = mx.gpu()\n",
    "        _ = nd.array([0], ctx=ctx)\n",
    "    except mx.base.MXNetError:\n",
    "        ctx = mx.cpu()\n",
    "    return ctx\n",
    "# def evaluate_accuracy(data_iter, net, ctx=[mx.cpu()]):\n",
    "#     \"\"\"Evaluate accuracy of a model on the given data set.\"\"\"\n",
    "#     if isinstance(ctx, mx.Context):\n",
    "#         ctx = [ctx]\n",
    "#     acc_sum, n = nd.array([0]), 0\n",
    "#     for batch in data_iter:\n",
    "#         features, labels, _ = _get_batch(batch, ctx)\n",
    "#         for X, y in zip(features, labels):\n",
    "#             y = y.astype('float32')\n",
    "#             acc_sum += (net(X).argmax(axis=1) == y).sum().copyto(mx.cpu())\n",
    "#             n += y.size\n",
    "#         acc_sum.wait_to_read()\n",
    "#     return acc_sum.asscalar() / n\n",
    "\n",
    "def _get_batch(batch, ctx):\n",
    "    \"\"\"Return features and labels on ctx.\"\"\"\n",
    "    features, labels = batch\n",
    "    if labels.dtype != features.dtype:\n",
    "        labels = labels.astype(features.dtype)\n",
    "    return (gutils.split_and_load(features, ctx),\n",
    "            gutils.split_and_load(labels, ctx), features.shape[0])\n",
    "\n",
    "def train(net, train_iter, batch_size, trainer, ctx, num_epochs, early_stop = False, temp_train_loss = 100.0):\n",
    "    \"\"\"Train and evaluate a model with CPU or GPU.\"\"\"\n",
    "    print('training on', ctx)\n",
    "    loss = gloss.L2Loss()\n",
    "    average_time = 0.0\n",
    "    \n",
    "    for epoch in range(num_epochs):\n",
    "        train_l_sum, train_acc_sum, n, start = 0.0, 0.0, 0, time.time()\n",
    "        if early_stop:\n",
    "            net.save_parameters('./temp_net_weight.params')\n",
    "        for X, y in train_iter:\n",
    "            X, y = X.as_in_context(ctx), y.as_in_context(ctx)\n",
    "            with autograd.record():\n",
    "                y_hat = net(X)            \n",
    "                l = loss(y_hat, y).sum()\n",
    "            l.backward()\n",
    "            trainer.step(batch_size)\n",
    "            train_l_sum += l.asscalar()\n",
    "            n += len(y)\n",
    "        \n",
    "#        test_acc = evaluate_accuracy(test_iter, net, ctx)\n",
    "        epoch_time = time.time() - start\n",
    "        train_loss = train_l_sum/n\n",
    "        print('epoch %d, loss %.4f, time %.1f sec' % (epoch + 1, train_loss, epoch_time))\n",
    "        average_time += epoch_time\n",
    "        \n",
    "        if early_stop:\n",
    "            if temp_train_loss<train_loss:\n",
    "                break\n",
    "            else:\n",
    "                temp_train_loss = train_loss\n",
    "    print('Average time per epoch is %.4f s.'%(average_time/(epoch+1)))"
   ]
  },
  {
   "cell_type": "code",
   "execution_count": 24,
   "metadata": {},
   "outputs": [],
   "source": [
    "ctx = try_gpu()"
   ]
  },
  {
   "cell_type": "code",
   "execution_count": 25,
   "metadata": {},
   "outputs": [],
   "source": [
    "# class Residual(nn.Block):\n",
    "#     def __init__(self, num_channels, use_1x1conv=False, strides=1, **kwargs):\n",
    "#         super(Residual, self).__init__(**kwargs) \n",
    "#         self.conv1 = nn.Conv2D(num_channels, kernel_size=3, padding=1, strides=strides) # this layer down-sampling the input\n",
    "#         self.conv2 = nn.Conv2D(num_channels, kernel_size=3, padding=1)  # the layer doesn't down-sampling the input\n",
    "        \n",
    "#         if use_1x1conv:\n",
    "#             self.conv3 = nn.Conv2D(num_channels, kernel_size=1, strides=strides)\n",
    "#             # to match the dimension of feature map of conv1 + conv2, the strides must be set to be identicla to conv 1\n",
    "#         else: \n",
    "#             self.conv3 = None \n",
    "            \n",
    "#         self.bn1 = nn.BatchNorm() \n",
    "#         self.bn2 = nn.BatchNorm()\n",
    "        \n",
    "#     def forward(self, X):\n",
    "#         Y = nd.relu(self.bn1(self.conv1(X)))\n",
    "#         Y = self.bn2(self.conv2(Y)) \n",
    "#         if self.conv3:\n",
    "#             X = self.conv3(X)\n",
    "\n",
    "#         return nd.relu(Y + X)\n",
    "    \n",
    "# def resnet_block(num_channels, num_residuals, first_block=False): \n",
    "#     blk = nn.Sequential() \n",
    "#     for i in range(num_residuals): \n",
    "#         if i == 0 and not first_block:\n",
    "#             #net.add(Residual(num_channels, use_1x1conv=True, strides=2))\n",
    "#             blk.add(Residual(num_channels, use_1x1conv=True, strides=2))\n",
    "#         else:\n",
    "#             #net.add(Residual(num_channels, strides=1))\n",
    "#             blk.add(Residual(num_channels, strides=1))\n",
    "#     return blk"
   ]
  },
  {
   "cell_type": "code",
   "execution_count": 26,
   "metadata": {},
   "outputs": [],
   "source": [
    "# num_of_output_channels = [64, 128, 256, 512]\n",
    "# num_residuals = [3, 4, 6, 3]\n",
    "\n",
    "# net_RESNET = nn.Sequential() \n",
    "# net_RESNET.add(nn.Conv2D(64, kernel_size=7, strides=2, padding=3),\n",
    "#         nn.BatchNorm(), \n",
    "#         nn.Activation('relu'),\n",
    "#         nn.MaxPool2D(pool_size=3, strides=2, padding=1))\n",
    "\n",
    "# for i, num in enumerate(num_of_output_channels):\n",
    "#     if i==0:\n",
    "#         net_RESNET.add(resnet_block(num, num_residuals[i], first_block=True))\n",
    "#     else:\n",
    "#         net_RESNET.add(resnet_block(num, num_residuals[i]))\n",
    "#     net_RESNET.add(nn.Dropout(0.1))\n",
    "\n",
    "# net_RESNET.add(nn.GlobalAvgPool2D(), nn.Dense(6))"
   ]
  },
  {
   "cell_type": "code",
   "execution_count": 27,
   "metadata": {},
   "outputs": [],
   "source": [
    "net = nn.Sequential()\n",
    "net.add(nn.Conv2D(128, kernel_size=1), nn.Conv2D(256, kernel_size=1), nn.Conv2D(512, kernel_size=1))\n",
    "net.add(nn.Conv2D(256, kernel_size=1), nn.Conv2D(128, kernel_size=1), nn.Conv2D(64, kernel_size=1))\n",
    "net.add(nn.Conv2D(32, kernel_size=1), nn.Conv2D(16, kernel_size=1), nn.Conv2D(8, kernel_size=1))\n",
    "net.add(nn.Conv2D(3, kernel_size=1))"
   ]
  },
  {
   "cell_type": "markdown",
   "metadata": {},
   "source": [
    "### Initialize or Load Weights"
   ]
  },
  {
   "cell_type": "code",
   "execution_count": 28,
   "metadata": {},
   "outputs": [],
   "source": [
    "net.initialize(ctx=ctx, init=mx.init.Xavier(rnd_type ='gaussian', factor_type='in', magnitude=2.0))"
   ]
  },
  {
   "cell_type": "code",
   "execution_count": 29,
   "metadata": {},
   "outputs": [
    {
     "name": "stdout",
     "output_type": "stream",
     "text": [
      "--------------------------------------------------------------------------------\n",
      "        Layer (type)                                Output Shape         Param #\n",
      "================================================================================\n",
      "               Input                            (8, 3, 256, 256)               0\n",
      "            Conv2D-1                          (8, 128, 256, 256)             512\n",
      "            Conv2D-2                          (8, 256, 256, 256)           33024\n",
      "            Conv2D-3                          (8, 512, 256, 256)          131584\n",
      "            Conv2D-4                          (8, 256, 256, 256)          131328\n",
      "            Conv2D-5                          (8, 128, 256, 256)           32896\n",
      "            Conv2D-6                           (8, 64, 256, 256)            8256\n",
      "            Conv2D-7                           (8, 32, 256, 256)            2080\n",
      "            Conv2D-8                           (8, 16, 256, 256)             528\n",
      "            Conv2D-9                            (8, 8, 256, 256)             136\n",
      "           Conv2D-10                            (8, 3, 256, 256)              27\n",
      "================================================================================\n",
      "Parameters in forward computation graph, duplicate included\n",
      "   Total params: 340371\n",
      "   Trainable params: 340371\n",
      "   Non-trainable params: 0\n",
      "Shared params in forward computation graph: 0\n",
      "Unique parameters in model: 340371\n",
      "--------------------------------------------------------------------------------\n"
     ]
    }
   ],
   "source": [
    "for X,y in train_iter:\n",
    "    net.summary(X.as_in_context(ctx))\n",
    "    break"
   ]
  },
  {
   "cell_type": "markdown",
   "metadata": {},
   "source": [
    "### Training"
   ]
  },
  {
   "cell_type": "code",
   "execution_count": 31,
   "metadata": {},
   "outputs": [
    {
     "name": "stdout",
     "output_type": "stream",
     "text": [
      "training on gpu(0)\n",
      "epoch 1, loss 0.2297, time 17.4 sec\n",
      "epoch 2, loss 0.0349, time 17.8 sec\n",
      "epoch 3, loss 0.0346, time 17.6 sec\n",
      "epoch 4, loss 0.0334, time 17.7 sec\n",
      "epoch 5, loss 0.0333, time 17.7 sec\n",
      "epoch 6, loss 0.0332, time 17.6 sec\n",
      "epoch 7, loss 0.0326, time 17.6 sec\n",
      "epoch 8, loss 0.0329, time 17.8 sec\n",
      "epoch 9, loss 0.0322, time 17.7 sec\n",
      "epoch 10, loss 0.0327, time 17.6 sec\n",
      "Average time per epoch is 17.6454 s.\n"
     ]
    }
   ],
   "source": [
    "adam_optimizer = mx.optimizer.Adam(learning_rate=1e-3, beta1=0.9, beta2=0.9)\n",
    "trainer = gluon.Trainer(net.collect_params(), optimizer=adam_optimizer)\n",
    "train(net, train_iter, batch_size, trainer, ctx, 10, False)"
   ]
  },
  {
   "cell_type": "code",
   "execution_count": 34,
   "metadata": {},
   "outputs": [],
   "source": [
    "for X in test_iter:\n",
    "    test_data_y = net(X.as_in_context(ctx))"
   ]
  },
  {
   "cell_type": "code",
   "execution_count": 44,
   "metadata": {},
   "outputs": [
    {
     "data": {
      "text/plain": [
       "array([[[161., 160., 160., ..., 160., 159., 161.],\n",
       "        [160., 160., 160., ..., 160., 159., 161.],\n",
       "        [160., 160., 160., ..., 160., 160., 161.],\n",
       "        ...,\n",
       "        [128., 123., 122., ..., 160., 144., 140.],\n",
       "        [131., 128., 128., ..., 156., 143., 140.],\n",
       "        [137., 136., 138., ..., 146., 143., 143.]],\n",
       "\n",
       "       [[170., 170., 170., ..., 169., 168., 170.],\n",
       "        [170., 170., 170., ..., 169., 169., 170.],\n",
       "        [170., 170., 170., ..., 170., 169., 171.],\n",
       "        ...,\n",
       "        [131., 126., 125., ..., 169., 150., 145.],\n",
       "        [135., 132., 131., ..., 165., 149., 146.],\n",
       "        [142., 141., 143., ..., 153., 150., 150.]],\n",
       "\n",
       "       [[154., 153., 153., ..., 153., 152., 154.],\n",
       "        [153., 153., 153., ..., 153., 152., 154.],\n",
       "        [153., 153., 153., ..., 153., 153., 154.],\n",
       "        ...,\n",
       "        [119., 114., 113., ..., 153., 136., 131.],\n",
       "        [122., 119., 119., ..., 149., 135., 132.],\n",
       "        [129., 128., 129., ..., 138., 135., 135.]]], dtype=float32)"
      ]
     },
     "execution_count": 44,
     "metadata": {},
     "output_type": "execute_result"
    }
   ],
   "source": [
    "np.floor(255*test_data_y[0].asnumpy())"
   ]
  },
  {
   "cell_type": "code",
   "execution_count": 37,
   "metadata": {},
   "outputs": [],
   "source": [
    "img = np.floor(255*test_data_y[0].asnumpy()).astype(np.uint8)\n",
    "img_reshape = np.zeros((256,256,3), dtype=np.uint8)\n",
    "for channel in range(3):\n",
    "    img_reshape[:,:,channel] = img[channel,:,:]"
   ]
  },
  {
   "cell_type": "code",
   "execution_count": 38,
   "metadata": {},
   "outputs": [
    {
     "data": {
      "text/plain": [
       "<matplotlib.image.AxesImage at 0x2268fd63cc0>"
      ]
     },
     "execution_count": 38,
     "metadata": {},
     "output_type": "execute_result"
    },
    {
     "data": {
      "image/png": "[encoded data removed]",
      "text/plain": [
       "<Figure size 432x288 with 1 Axes>"
      ]
     },
     "metadata": {},
     "output_type": "display_data"
    }
   ],
   "source": [
    "import matplotlib.pyplot as plt\n",
    "plt.imshow(img_reshape)"
   ]
  },
  {
   "cell_type": "code",
   "execution_count": null,
   "metadata": {},
   "outputs": [],
   "source": [
    "img_reshape.shape"
   ]
  },
  {
   "cell_type": "code",
   "execution_count": null,
   "metadata": {},
   "outputs": [],
   "source": []
  }
 ],
 "metadata": {
  "kernelspec": {
   "display_name": "Python 3",
   "language": "python",
   "name": "python3"
  },
  "language_info": {
   "codemirror_mode": {
    "name": "ipython",
    "version": 3
   },
   "file_extension": ".py",
   "mimetype": "text/x-python",
   "name": "python",
   "nbconvert_exporter": "python",
   "pygments_lexer": "ipython3",
   "version": "3.5.5"
  }
 },
 "nbformat": 4,
 "nbformat_minor": 2
}
