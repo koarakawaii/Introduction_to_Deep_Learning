{
 "cells": [
  {
   "cell_type": "code",
   "execution_count": 1,
   "metadata": {},
   "outputs": [],
   "source": [
    "import numpy as np\n",
    "import os, sys, cv2, time\n",
    "import matplotlib.pyplot as plt\n",
    "import mxnet as mx\n",
    "from mxnet import gluon, init, autograd, nd, image\n",
    "from mxnet.gluon import data as gdata, utils as gutils, nn, loss as gloss\n",
    "from mxnet.gluon.data.vision import datasets, transforms\n",
    "from sklearn.metrics import confusion_matrix\n",
    "from ipywidgets import interact, IntSlider"
   ]
  },
  {
   "cell_type": "code",
   "execution_count": 2,
   "metadata": {},
   "outputs": [],
   "source": [
    "#target_folder = 'E:/Guan-Ming/Deep_ML/all_data_resize/'\n",
    "#output_folder = 'E:/Guan-Ming/Deep_ML/all_data_final_transposed/'\n",
    "#test_data_folder = 'E:/Guan-Ming/Deep_ML/test_data_resize/'\n",
    "#extra_validation_target_folder = 'E:/Guan-Ming/Deep_ML/extra_validation_data_resize/'\n",
    "\n",
    "output_folder = 'Train_Data/'\n",
    "test_data_folder = 'Test_Data/'\n",
    "extra_validation_target_folder = 'Extra_Validation_Data/'\n",
    "final_validation_target_folder = 'Scoring_Validation_Data/'"
   ]
  },
  {
   "cell_type": "markdown",
   "metadata": {},
   "source": [
    "### Read in Training Data"
   ]
  },
  {
   "cell_type": "code",
   "execution_count": 3,
   "metadata": {},
   "outputs": [
    {
     "name": "stdout",
     "output_type": "stream",
     "text": [
      "Sum check pass!\n"
     ]
    }
   ],
   "source": [
    "files = os.listdir(output_folder)\n",
    "total_data = len(files)\n",
    "data_x = nd.zeros((total_data, 256, 256, 3)).astype(np.uint8)\n",
    "data_y = nd.zeros(total_data)\n",
    "total_num = 0\n",
    "\n",
    "for index, f in enumerate(files):\n",
    "    data_x[index] = image.imread(output_folder+f)\n",
    "    label = f.split('_',1)[0]\n",
    "    if label == '0':\n",
    "        data_y[index] = 0\n",
    "        total_num += 1\n",
    "    elif label == '1':\n",
    "        data_y[index] = 1\n",
    "        total_num += 1\n",
    "    elif label == '2':\n",
    "        data_y[index] = 2\n",
    "        total_num += 1\n",
    "    elif label == '3':\n",
    "        data_y[index] = 3\n",
    "        total_num += 1\n",
    "    elif label == '4':\n",
    "        data_y[index] = 4\n",
    "        total_num += 1\n",
    "    elif label == '5':\n",
    "        data_y[index] = 5\n",
    "        total_num += 1\n",
    "    else:\n",
    "        raise RuntimeError('Cannot label training data!')\n",
    "\n",
    "if total_num == total_data:\n",
    "    print(\"Sum check pass!\")"
   ]
  },
  {
   "cell_type": "markdown",
   "metadata": {},
   "source": [
    "### Read in Testing Data"
   ]
  },
  {
   "cell_type": "code",
   "execution_count": 4,
   "metadata": {},
   "outputs": [
    {
     "name": "stdout",
     "output_type": "stream",
     "text": [
      "Sum check pass!\n"
     ]
    }
   ],
   "source": [
    "files = os.listdir(test_data_folder)\n",
    "total_test_data = len(files)\n",
    "test_data_x = nd.zeros((total_test_data, 256, 256, 3)).astype(np.uint8)\n",
    "test_data_y = nd.zeros(total_test_data)\n",
    "total_num = 0\n",
    "\n",
    "for index in range(total_test_data):\n",
    "    f = files[index]\n",
    "    test_data_x[index] = image.imread(test_data_folder+f)\n",
    "    label = f.split('_', 1)[0]\n",
    "    if label == '0':\n",
    "        test_data_y[index] = 0\n",
    "        total_num += 1\n",
    "    elif label == '1':\n",
    "        test_data_y[index] = 1\n",
    "        total_num += 1\n",
    "    elif label == '2':\n",
    "        test_data_y[index] = 2\n",
    "        total_num += 1\n",
    "    elif label == '3':\n",
    "        test_data_y[index] = 3\n",
    "        total_num += 1\n",
    "    elif label == '4':\n",
    "        test_data_y[index] = 4\n",
    "        total_num += 1\n",
    "    elif label == '5':\n",
    "        test_data_y[index] = 5\n",
    "        total_num += 1\n",
    "    else:\n",
    "        raise RuntimeError('Cannot label testation data!')\n",
    "        \n",
    "if total_num == total_test_data:\n",
    "    print(\"Sum check pass!\")"
   ]
  },
  {
   "cell_type": "markdown",
   "metadata": {},
   "source": [
    "### Read in Extra Validation Data"
   ]
  },
  {
   "cell_type": "code",
   "execution_count": 5,
   "metadata": {},
   "outputs": [
    {
     "name": "stdout",
     "output_type": "stream",
     "text": [
      "Sum check pass!\n"
     ]
    }
   ],
   "source": [
    "files = os.listdir(extra_validation_target_folder)\n",
    "total_extra_validation_data = len(files)\n",
    "extra_validation_data_x = nd.zeros((total_extra_validation_data, 256, 256, 3)).astype(np.uint8)\n",
    "extra_validation_data_y = nd.zeros(total_extra_validation_data)\n",
    "total_num = 0\n",
    "\n",
    "for index, f in enumerate(files):\n",
    "    extra_validation_data_x[index] = image.imread(extra_validation_target_folder+f)\n",
    "\n",
    "    label = f.split('_',1)[0]\n",
    "    if label =='0':\n",
    "        extra_validation_data_y[index] = 0\n",
    "        total_num += 1\n",
    "    elif label =='1':\n",
    "        extra_validation_data_y[index] = 1\n",
    "        total_num += 1\n",
    "    elif label =='2':\n",
    "        extra_validation_data_y[index] = 2\n",
    "        total_num += 1\n",
    "    elif label =='3':\n",
    "        extra_validation_data_y[index] = 3\n",
    "        total_num += 1\n",
    "    elif label =='4':\n",
    "        extra_validation_data_y[index] = 4\n",
    "        total_num += 1\n",
    "    elif label =='5':\n",
    "        extra_validation_data_y[index] = 5\n",
    "        total_num += 1\n",
    "    else:\n",
    "        raise RuntimeError('Cannot label training data!')\n",
    "#    break\n",
    "\n",
    "if total_num == total_extra_validation_data:\n",
    "    print(\"Sum check pass!\")"
   ]
  },
  {
   "cell_type": "markdown",
   "metadata": {},
   "source": [
    "### Read in Final Validation Data Set"
   ]
  },
  {
   "cell_type": "code",
   "execution_count": 6,
   "metadata": {},
   "outputs": [
    {
     "name": "stdout",
     "output_type": "stream",
     "text": [
      "Sum check pass!\n"
     ]
    }
   ],
   "source": [
    "files = os.listdir(final_validation_target_folder)\n",
    "total_final_validation_data = len(files)\n",
    "final_validation_data_x = nd.zeros((total_final_validation_data, 256, 256, 3)).astype(np.uint8)\n",
    "final_validation_data_y = nd.zeros(total_final_validation_data)\n",
    "total_num = 0\n",
    "\n",
    "for index, f in enumerate(files):\n",
    "    final_validation_data_x[index] = image.imread(final_validation_target_folder+f)\n",
    "\n",
    "    label = f.split('_',1)[0]\n",
    "    if label =='0':\n",
    "        final_validation_data_y[index] = 0\n",
    "        total_num += 1\n",
    "    elif label =='1':\n",
    "        final_validation_data_y[index] = 1\n",
    "        total_num += 1\n",
    "    elif label =='2':\n",
    "        final_validation_data_y[index] = 2\n",
    "        total_num += 1\n",
    "    elif label =='3':\n",
    "        final_validation_data_y[index] = 3\n",
    "        total_num += 1\n",
    "    elif label =='4':\n",
    "        final_validation_data_y[index] = 4\n",
    "        total_num += 1\n",
    "    elif label =='5':\n",
    "        final_validation_data_y[index] = 5\n",
    "        total_num += 1\n",
    "    else:\n",
    "        raise RuntimeError('Cannot label training data!')\n",
    "#    break\n",
    "\n",
    "if total_num == total_final_validation_data:\n",
    "    print(\"Sum check pass!\")"
   ]
  },
  {
   "cell_type": "markdown",
   "metadata": {},
   "source": [
    "### Train-Valid Spilt"
   ]
  },
  {
   "cell_type": "code",
   "execution_count": 7,
   "metadata": {},
   "outputs": [],
   "source": [
    "data_index = np.arange(total_data)\n",
    "train_size = 0.65\n",
    "np.random.seed = 61387454\n",
    "np.random.shuffle(data_index)\n",
    "train_index = data_index[:np.int32(total_data*train_size)]\n",
    "valid_index = data_index[np.int32(total_data*train_size):]\n",
    "train_data_x = data_x[train_index]\n",
    "train_data_y = data_y[train_index]\n",
    "valid_data_x = data_x[valid_index]\n",
    "valid_data_y = data_y[valid_index]"
   ]
  },
  {
   "cell_type": "code",
   "execution_count": 8,
   "metadata": {},
   "outputs": [],
   "source": [
    "train_mean = [0.592143940485608, 0.5347022953513785, 0.4981124834847486]\n",
    "train_std = [0.2880660398985942, 0.2820819880842514, 0.282954693408029]\n",
    "extra_validation_mean = [0.48470740652217936, 0.4379602084974611, 0.37406493007969804]\n",
    "extra_validation_std = [0.2525134266173694, 0.23321502528915997, 0.2119784063910089]\n",
    "#final_validation_mean = [0.56024206031756862, 0.51607103106300856, 0.48234928793204251]\n",
    "#final_validation_std = [0.29965082389575942, 0.28886936891107284, 0.28323027528012074]"
   ]
  },
  {
   "cell_type": "code",
   "execution_count": 30,
   "metadata": {},
   "outputs": [
    {
     "data": {
      "text/plain": [
       "([0.56024206031756862, 0.51607103106300856, 0.48234928793204251],\n",
       " [0.29965082389575942, 0.28886936891107284, 0.28323027528012074])"
      ]
     },
     "execution_count": 30,
     "metadata": {},
     "output_type": "execute_result"
    }
   ],
   "source": [
    "final_validation_mean_r = (final_validation_data_x[:,:,:,0].asnumpy()/255).mean()\n",
    "final_validation_mean_g = (final_validation_data_x[:,:,:,1].asnumpy()/255).mean()\n",
    "final_validation_mean_b = (final_validation_data_x[:,:,:,2].asnumpy()/255).mean()\n",
    "final_validation_std_r = (final_validation_data_x[:,:,:,0].asnumpy()/255).std()\n",
    "final_validation_std_g = (final_validation_data_x[:,:,:,1].asnumpy()/255).std()\n",
    "final_validation_std_b = (final_validation_data_x[:,:,:,2].asnumpy()/255).std()\n",
    "final_validation_mean = [final_validation_mean_r, final_validation_mean_g, final_validation_mean_b]\n",
    "final_validation_std = [final_validation_std_r, final_validation_std_g, final_validation_std_b]\n",
    "final_validation_mean, final_validation_std"
   ]
  },
  {
   "cell_type": "markdown",
   "metadata": {},
   "source": [
    "### Create Data Iterator"
   ]
  },
  {
   "cell_type": "code",
   "execution_count": 10,
   "metadata": {},
   "outputs": [],
   "source": [
    "batch_size = 64\n",
    "train_dataset = gdata.ArrayDataset(train_data_x, train_data_y)\n",
    "valid_dataset = gdata.ArrayDataset(valid_data_x, valid_data_y)\n",
    "test_dataset = gdata.ArrayDataset(test_data_x, test_data_y)\n",
    "extra_validation_dataset = gdata.ArrayDataset(extra_validation_data_x, extra_validation_data_y)\n",
    "final_validation_dataset = gdata.ArrayDataset(final_validation_data_x, final_validation_data_y)\n",
    "    \n",
    "transformer = []\n",
    "transformer += [gdata.vision.transforms.ToTensor()] # transer the train data from shape (sample, H, W, channel) to (sample, channel, H, W) and rescale to between 0 and 1 \n",
    "transformer += [gdata.vision.transforms.Normalize(train_mean, train_std)]\n",
    "transformer = gdata.vision.transforms.Compose(transformer)\n",
    "num_workers = 0 if sys.platform.startswith('win32') else 4\n",
    "\n",
    "train_iter = gdata.DataLoader(train_dataset.transform_first(transformer), batch_size = batch_size, shuffle=True, num_workers=num_workers)\n",
    "valid_iter = gdata.DataLoader(valid_dataset.transform_first(transformer), batch_size = batch_size, shuffle=False, num_workers=num_workers)\n",
    "test_iter = gdata.DataLoader(test_dataset.transform_first(transformer), batch_size = batch_size, shuffle=False, num_workers=num_workers)\n",
    "\n",
    "extra_transformer = []\n",
    "extra_transformer += [gdata.vision.transforms.ToTensor()] # transer the train data from shape (sample, H, W, channel) to (sample, channel, H, W) and rescale to between 0 and 1 \n",
    "extra_transformer += [gdata.vision.transforms.Normalize(extra_validation_mean, extra_validation_std)]\n",
    "extra_transformer = gdata.vision.transforms.Compose(extra_transformer)\n",
    "extra_validation_iter = gdata.DataLoader(extra_validation_dataset.transform_first(extra_transformer), batch_size = batch_size, shuffle=False, num_workers=num_workers)\n",
    "\n",
    "final_transformer = []\n",
    "final_transformer += [gdata.vision.transforms.ToTensor()] # transer the train data from shape (sample, H, W, channel) to (sample, channel, H, W) and rescale to between 0 and 1 \n",
    "final_transformer += [gdata.vision.transforms.Normalize(final_validation_mean, final_validation_std)]\n",
    "final_transformer = gdata.vision.transforms.Compose(final_transformer)\n",
    "final_validation_iter = gdata.DataLoader(final_validation_dataset.transform_first(final_transformer), batch_size = batch_size, shuffle=False, num_workers=num_workers)"
   ]
  },
  {
   "cell_type": "markdown",
   "metadata": {},
   "source": [
    "### Define Functions for Training"
   ]
  },
  {
   "cell_type": "code",
   "execution_count": 11,
   "metadata": {},
   "outputs": [],
   "source": [
    "def try_gpu():\n",
    "    \"\"\"If GPU is available, return mx.gpu(0); else return mx.cpu().\"\"\"\n",
    "    try:\n",
    "        ctx = mx.gpu()\n",
    "        _ = nd.array([0], ctx=ctx)\n",
    "    except mx.base.MXNetError:\n",
    "        ctx = mx.cpu()\n",
    "    return ctx\n",
    "def evaluate_accuracy(data_iter, net, ctx=[mx.cpu()]):\n",
    "    \"\"\"Evaluate accuracy of a model on the given data set.\"\"\"\n",
    "    if isinstance(ctx, mx.Context):\n",
    "        ctx = [ctx]\n",
    "    acc_sum, n = nd.array([0]), 0\n",
    "    for batch in data_iter:\n",
    "        features, labels, _ = _get_batch(batch, ctx)\n",
    "        for X, y in zip(features, labels):\n",
    "            y = y.astype('float32')\n",
    "            acc_sum += (net(X).argmax(axis=1) == y).sum().copyto(mx.cpu())\n",
    "            n += y.size\n",
    "        acc_sum.wait_to_read()\n",
    "    return acc_sum.asscalar() / n\n",
    "\n",
    "def _get_batch(batch, ctx):\n",
    "    \"\"\"Return features and labels on ctx.\"\"\"\n",
    "    features, labels = batch\n",
    "    if labels.dtype != features.dtype:\n",
    "        labels = labels.astype(features.dtype)\n",
    "    return (gutils.split_and_load(features, ctx),\n",
    "            gutils.split_and_load(labels, ctx), features.shape[0])\n",
    "\n",
    "def train(net, train_iter, test_iter, batch_size, trainer, ctx, num_epochs):\n",
    "    \"\"\"Train and evaluate a model with CPU or GPU.\"\"\"\n",
    "    print('training on', ctx)\n",
    "    loss = gloss.SoftmaxCrossEntropyLoss()\n",
    "    average_time = 0.0\n",
    "    \n",
    "    for epoch in range(num_epochs):\n",
    "        train_l_sum, train_acc_sum, n, start = 0.0, 0.0, 0, time.time()\n",
    "        for X, y in train_iter:\n",
    "            X, y = X.as_in_context(ctx), y.as_in_context(ctx)\n",
    "            with autograd.record():\n",
    "                y_hat = net(X)            \n",
    "                l = loss(y_hat, y).sum()\n",
    "            l.backward()\n",
    "            trainer.step(batch_size)\n",
    "            y = y.astype('float32')\n",
    "            train_l_sum += l.asscalar()\n",
    "            train_acc_sum += (y_hat.argmax(axis=1) == y).sum().asscalar()\n",
    "            n += y.size\n",
    "        \n",
    "        test_acc = evaluate_accuracy(test_iter, net, ctx)\n",
    "        epoch_time = time.time() - start\n",
    "        print('epoch %d, loss %.4f, train acc %.3f, test acc %.3f, '\n",
    "              'time %.1f sec'\n",
    "              % (epoch + 1, train_l_sum / n, train_acc_sum / n, test_acc, epoch_time))\n",
    "        average_time += epoch_time\n",
    "    print('Average time per epoch is %.4f s.'%(average_time/num_epochs))"
   ]
  },
  {
   "cell_type": "code",
   "execution_count": 12,
   "metadata": {},
   "outputs": [],
   "source": [
    "ctx = try_gpu()"
   ]
  },
  {
   "cell_type": "markdown",
   "metadata": {},
   "source": [
    "### RESNET-34"
   ]
  },
  {
   "cell_type": "code",
   "execution_count": 13,
   "metadata": {},
   "outputs": [],
   "source": [
    "class Residual(nn.Block):\n",
    "    def __init__(self, num_channels, use_1x1conv=False, strides=1, **kwargs):\n",
    "        super(Residual, self).__init__(**kwargs) \n",
    "        self.conv1 = nn.Conv2D(num_channels, kernel_size=3, padding=1, strides=strides) # this layer down-sampling the input\n",
    "        self.conv2 = nn.Conv2D(num_channels, kernel_size=3, padding=1)  # the layer doesn't down-sampling the input\n",
    "        \n",
    "        if use_1x1conv:\n",
    "            self.conv3 = nn.Conv2D(num_channels, kernel_size=1, strides=strides)\n",
    "            # to match the dimension of feature map of conv1 + conv2, the strides must be set to be identicla to conv 1\n",
    "        else: \n",
    "            self.conv3 = None \n",
    "            \n",
    "        self.bn1 = nn.BatchNorm() \n",
    "        self.bn2 = nn.BatchNorm()\n",
    "        \n",
    "    def forward(self, X):\n",
    "        Y = nd.relu(self.bn1(self.conv1(X)))\n",
    "        Y = self.bn2(self.conv2(Y)) \n",
    "        if self.conv3:\n",
    "            X = self.conv3(X)\n",
    "\n",
    "        return nd.relu(Y + X)\n",
    "    \n",
    "def resnet_block(num_channels, num_residuals, first_block=False): \n",
    "    blk = nn.Sequential() \n",
    "    for i in range(num_residuals): \n",
    "        if i == 0 and not first_block:\n",
    "            #net.add(Residual(num_channels, use_1x1conv=True, strides=2))\n",
    "            blk.add(Residual(num_channels, use_1x1conv=True, strides=2))\n",
    "        else:\n",
    "            #net.add(Residual(num_channels, strides=1))\n",
    "            blk.add(Residual(num_channels, strides=1))\n",
    "    return blk"
   ]
  },
  {
   "cell_type": "code",
   "execution_count": 14,
   "metadata": {},
   "outputs": [],
   "source": [
    "num_of_output_channels = [64, 128, 256, 512]\n",
    "num_residuals = [3, 4, 6, 3]\n",
    "\n",
    "net_RESNET = nn.Sequential() \n",
    "net_RESNET.add(nn.Conv2D(64, kernel_size=7, strides=2, padding=3),\n",
    "        nn.BatchNorm(), \n",
    "        nn.Activation('relu'),\n",
    "        nn.MaxPool2D(pool_size=3, strides=2, padding=1))\n",
    "\n",
    "for i, num in enumerate(num_of_output_channels):\n",
    "    if i==0:\n",
    "        net_RESNET.add(resnet_block(num, num_residuals[i], first_block=True))\n",
    "    else:\n",
    "        net_RESNET.add(resnet_block(num, num_residuals[i]))\n",
    "    net_RESNET.add(nn.Dropout(0.1))\n",
    "\n",
    "net_RESNET.add(nn.GlobalAvgPool2D(), nn.Dense(6))"
   ]
  },
  {
   "cell_type": "markdown",
   "metadata": {},
   "source": [
    "### Initialize or Load Weights"
   ]
  },
  {
   "cell_type": "code",
   "execution_count": 15,
   "metadata": {},
   "outputs": [],
   "source": [
    "net_RESNET.load_parameters('Weight_Train_Test_Mixed/RESNET34_DROPOUT_train_data_transposed_2.params', ctx= ctx)\n",
    "#net_RESNET.initialize(ctx=ctx, init=mx.init.Xavier(rnd_type ='gaussian', factor_type='in', magnitude=2.0))"
   ]
  },
  {
   "cell_type": "code",
   "execution_count": 16,
   "metadata": {},
   "outputs": [
    {
     "name": "stdout",
     "output_type": "stream",
     "text": [
      "--------------------------------------------------------------------------------\n",
      "        Layer (type)                                Output Shape         Param #\n",
      "================================================================================\n",
      "               Input                           (64, 3, 256, 256)               0\n",
      "            Conv2D-1                          (64, 64, 128, 128)            9472\n",
      "         BatchNorm-2                          (64, 64, 128, 128)             256\n",
      "        Activation-3                          (64, 64, 128, 128)               0\n",
      "         MaxPool2D-4                            (64, 64, 64, 64)               0\n",
      "            Conv2D-5                            (64, 64, 64, 64)           36928\n",
      "         BatchNorm-6                            (64, 64, 64, 64)             256\n",
      "            Conv2D-7                            (64, 64, 64, 64)           36928\n",
      "         BatchNorm-8                            (64, 64, 64, 64)             256\n",
      "          Residual-9                            (64, 64, 64, 64)               0\n",
      "           Conv2D-10                            (64, 64, 64, 64)           36928\n",
      "        BatchNorm-11                            (64, 64, 64, 64)             256\n",
      "           Conv2D-12                            (64, 64, 64, 64)           36928\n",
      "        BatchNorm-13                            (64, 64, 64, 64)             256\n",
      "         Residual-14                            (64, 64, 64, 64)               0\n",
      "           Conv2D-15                            (64, 64, 64, 64)           36928\n",
      "        BatchNorm-16                            (64, 64, 64, 64)             256\n",
      "           Conv2D-17                            (64, 64, 64, 64)           36928\n",
      "        BatchNorm-18                            (64, 64, 64, 64)             256\n",
      "         Residual-19                            (64, 64, 64, 64)               0\n",
      "          Dropout-20                            (64, 64, 64, 64)               0\n",
      "           Conv2D-21                           (64, 128, 32, 32)           73856\n",
      "        BatchNorm-22                           (64, 128, 32, 32)             512\n",
      "           Conv2D-23                           (64, 128, 32, 32)          147584\n",
      "        BatchNorm-24                           (64, 128, 32, 32)             512\n",
      "           Conv2D-25                           (64, 128, 32, 32)            8320\n",
      "         Residual-26                           (64, 128, 32, 32)               0\n",
      "           Conv2D-27                           (64, 128, 32, 32)          147584\n",
      "        BatchNorm-28                           (64, 128, 32, 32)             512\n",
      "           Conv2D-29                           (64, 128, 32, 32)          147584\n",
      "        BatchNorm-30                           (64, 128, 32, 32)             512\n",
      "         Residual-31                           (64, 128, 32, 32)               0\n",
      "           Conv2D-32                           (64, 128, 32, 32)          147584\n",
      "        BatchNorm-33                           (64, 128, 32, 32)             512\n",
      "           Conv2D-34                           (64, 128, 32, 32)          147584\n",
      "        BatchNorm-35                           (64, 128, 32, 32)             512\n",
      "         Residual-36                           (64, 128, 32, 32)               0\n",
      "           Conv2D-37                           (64, 128, 32, 32)          147584\n",
      "        BatchNorm-38                           (64, 128, 32, 32)             512\n",
      "           Conv2D-39                           (64, 128, 32, 32)          147584\n",
      "        BatchNorm-40                           (64, 128, 32, 32)             512\n",
      "         Residual-41                           (64, 128, 32, 32)               0\n",
      "          Dropout-42                           (64, 128, 32, 32)               0\n",
      "           Conv2D-43                           (64, 256, 16, 16)          295168\n",
      "        BatchNorm-44                           (64, 256, 16, 16)            1024\n",
      "           Conv2D-45                           (64, 256, 16, 16)          590080\n",
      "        BatchNorm-46                           (64, 256, 16, 16)            1024\n",
      "           Conv2D-47                           (64, 256, 16, 16)           33024\n",
      "         Residual-48                           (64, 256, 16, 16)               0\n",
      "           Conv2D-49                           (64, 256, 16, 16)          590080\n",
      "        BatchNorm-50                           (64, 256, 16, 16)            1024\n",
      "           Conv2D-51                           (64, 256, 16, 16)          590080\n",
      "        BatchNorm-52                           (64, 256, 16, 16)            1024\n",
      "         Residual-53                           (64, 256, 16, 16)               0\n",
      "           Conv2D-54                           (64, 256, 16, 16)          590080\n",
      "        BatchNorm-55                           (64, 256, 16, 16)            1024\n",
      "           Conv2D-56                           (64, 256, 16, 16)          590080\n",
      "        BatchNorm-57                           (64, 256, 16, 16)            1024\n",
      "         Residual-58                           (64, 256, 16, 16)               0\n",
      "           Conv2D-59                           (64, 256, 16, 16)          590080\n",
      "        BatchNorm-60                           (64, 256, 16, 16)            1024\n",
      "           Conv2D-61                           (64, 256, 16, 16)          590080\n",
      "        BatchNorm-62                           (64, 256, 16, 16)            1024\n",
      "         Residual-63                           (64, 256, 16, 16)               0\n",
      "           Conv2D-64                           (64, 256, 16, 16)          590080\n",
      "        BatchNorm-65                           (64, 256, 16, 16)            1024\n",
      "           Conv2D-66                           (64, 256, 16, 16)          590080\n",
      "        BatchNorm-67                           (64, 256, 16, 16)            1024\n",
      "         Residual-68                           (64, 256, 16, 16)               0\n",
      "           Conv2D-69                           (64, 256, 16, 16)          590080\n",
      "        BatchNorm-70                           (64, 256, 16, 16)            1024\n",
      "           Conv2D-71                           (64, 256, 16, 16)          590080\n",
      "        BatchNorm-72                           (64, 256, 16, 16)            1024\n",
      "         Residual-73                           (64, 256, 16, 16)               0\n",
      "          Dropout-74                           (64, 256, 16, 16)               0\n",
      "           Conv2D-75                             (64, 512, 8, 8)         1180160\n",
      "        BatchNorm-76                             (64, 512, 8, 8)            2048\n",
      "           Conv2D-77                             (64, 512, 8, 8)         2359808\n",
      "        BatchNorm-78                             (64, 512, 8, 8)            2048\n",
      "           Conv2D-79                             (64, 512, 8, 8)          131584\n",
      "         Residual-80                             (64, 512, 8, 8)               0\n",
      "           Conv2D-81                             (64, 512, 8, 8)         2359808\n",
      "        BatchNorm-82                             (64, 512, 8, 8)            2048\n",
      "           Conv2D-83                             (64, 512, 8, 8)         2359808\n",
      "        BatchNorm-84                             (64, 512, 8, 8)            2048\n",
      "         Residual-85                             (64, 512, 8, 8)               0\n",
      "           Conv2D-86                             (64, 512, 8, 8)         2359808\n",
      "        BatchNorm-87                             (64, 512, 8, 8)            2048\n",
      "           Conv2D-88                             (64, 512, 8, 8)         2359808\n",
      "        BatchNorm-89                             (64, 512, 8, 8)            2048\n",
      "         Residual-90                             (64, 512, 8, 8)               0\n",
      "          Dropout-91                             (64, 512, 8, 8)               0\n",
      "  GlobalAvgPool2D-92                             (64, 512, 1, 1)               0\n",
      "            Dense-93                                     (64, 6)            3078\n",
      "================================================================================\n",
      "Parameters in forward computation graph, duplicate included\n",
      "   Total params: 21309702\n",
      "   Trainable params: 21294470\n",
      "   Non-trainable params: 15232\n",
      "Shared params in forward computation graph: 0\n",
      "Unique parameters in model: 21309702\n",
      "--------------------------------------------------------------------------------\n"
     ]
    }
   ],
   "source": [
    "for X,_ in train_iter:\n",
    "    net_RESNET.summary(X.as_in_context(ctx))\n",
    "    break"
   ]
  },
  {
   "cell_type": "markdown",
   "metadata": {},
   "source": [
    "### Training"
   ]
  },
  {
   "cell_type": "code",
   "execution_count": 29,
   "metadata": {},
   "outputs": [
    {
     "name": "stdout",
     "output_type": "stream",
     "text": [
      "training on gpu(0)\n",
      "epoch 1, loss 1.8275, train acc 0.315, test acc 0.354, time 66.1 sec\n",
      "epoch 2, loss 1.3050, train acc 0.485, test acc 0.431, time 64.7 sec\n",
      "epoch 3, loss 0.8962, train acc 0.649, test acc 0.663, time 65.3 sec\n"
     ]
    },
    {
     "ename": "KeyboardInterrupt",
     "evalue": "",
     "output_type": "error",
     "traceback": [
      "\u001b[1;31m---------------------------------------------------------------------------\u001b[0m",
      "\u001b[1;31mKeyboardInterrupt\u001b[0m                         Traceback (most recent call last)",
      "\u001b[1;32m<ipython-input-29-ec50356d3e3d>\u001b[0m in \u001b[0;36m<module>\u001b[1;34m()\u001b[0m\n\u001b[0;32m      1\u001b[0m \u001b[0madam_optimizer\u001b[0m \u001b[1;33m=\u001b[0m \u001b[0mmx\u001b[0m\u001b[1;33m.\u001b[0m\u001b[0moptimizer\u001b[0m\u001b[1;33m.\u001b[0m\u001b[0mAdam\u001b[0m\u001b[1;33m(\u001b[0m\u001b[0mlearning_rate\u001b[0m\u001b[1;33m=\u001b[0m\u001b[1;36m1e-4\u001b[0m\u001b[1;33m,\u001b[0m \u001b[0mbeta1\u001b[0m\u001b[1;33m=\u001b[0m\u001b[1;36m0.9\u001b[0m\u001b[1;33m,\u001b[0m \u001b[0mbeta2\u001b[0m\u001b[1;33m=\u001b[0m\u001b[1;36m0.9\u001b[0m\u001b[1;33m)\u001b[0m\u001b[1;33m\u001b[0m\u001b[0m\n\u001b[0;32m      2\u001b[0m \u001b[0mtrainer\u001b[0m \u001b[1;33m=\u001b[0m \u001b[0mgluon\u001b[0m\u001b[1;33m.\u001b[0m\u001b[0mTrainer\u001b[0m\u001b[1;33m(\u001b[0m\u001b[0mnet_RESNET\u001b[0m\u001b[1;33m.\u001b[0m\u001b[0mcollect_params\u001b[0m\u001b[1;33m(\u001b[0m\u001b[1;33m)\u001b[0m\u001b[1;33m,\u001b[0m \u001b[0moptimizer\u001b[0m\u001b[1;33m=\u001b[0m\u001b[0madam_optimizer\u001b[0m\u001b[1;33m)\u001b[0m\u001b[1;33m\u001b[0m\u001b[0m\n\u001b[1;32m----> 3\u001b[1;33m \u001b[0mtrain\u001b[0m\u001b[1;33m(\u001b[0m\u001b[0mnet_RESNET\u001b[0m\u001b[1;33m,\u001b[0m \u001b[0mtrain_iter\u001b[0m\u001b[1;33m,\u001b[0m \u001b[0mvalid_iter\u001b[0m\u001b[1;33m,\u001b[0m \u001b[0mbatch_size\u001b[0m\u001b[1;33m,\u001b[0m \u001b[0mtrainer\u001b[0m\u001b[1;33m,\u001b[0m \u001b[0mctx\u001b[0m\u001b[1;33m,\u001b[0m \u001b[1;36m5\u001b[0m\u001b[1;33m)\u001b[0m\u001b[1;33m\u001b[0m\u001b[0m\n\u001b[0m",
      "\u001b[1;32m<ipython-input-10-63833ae654b9>\u001b[0m in \u001b[0;36mtrain\u001b[1;34m(net, train_iter, test_iter, batch_size, trainer, ctx, num_epochs)\u001b[0m\n\u001b[0;32m     46\u001b[0m             \u001b[0my\u001b[0m \u001b[1;33m=\u001b[0m \u001b[0my\u001b[0m\u001b[1;33m.\u001b[0m\u001b[0mastype\u001b[0m\u001b[1;33m(\u001b[0m\u001b[1;34m'float32'\u001b[0m\u001b[1;33m)\u001b[0m\u001b[1;33m\u001b[0m\u001b[0m\n\u001b[0;32m     47\u001b[0m             \u001b[0mtrain_l_sum\u001b[0m \u001b[1;33m+=\u001b[0m \u001b[0ml\u001b[0m\u001b[1;33m.\u001b[0m\u001b[0masscalar\u001b[0m\u001b[1;33m(\u001b[0m\u001b[1;33m)\u001b[0m\u001b[1;33m\u001b[0m\u001b[0m\n\u001b[1;32m---> 48\u001b[1;33m             \u001b[0mtrain_acc_sum\u001b[0m \u001b[1;33m+=\u001b[0m \u001b[1;33m(\u001b[0m\u001b[0my_hat\u001b[0m\u001b[1;33m.\u001b[0m\u001b[0margmax\u001b[0m\u001b[1;33m(\u001b[0m\u001b[0maxis\u001b[0m\u001b[1;33m=\u001b[0m\u001b[1;36m1\u001b[0m\u001b[1;33m)\u001b[0m \u001b[1;33m==\u001b[0m \u001b[0my\u001b[0m\u001b[1;33m)\u001b[0m\u001b[1;33m.\u001b[0m\u001b[0msum\u001b[0m\u001b[1;33m(\u001b[0m\u001b[1;33m)\u001b[0m\u001b[1;33m.\u001b[0m\u001b[0masscalar\u001b[0m\u001b[1;33m(\u001b[0m\u001b[1;33m)\u001b[0m\u001b[1;33m\u001b[0m\u001b[0m\n\u001b[0m\u001b[0;32m     49\u001b[0m             \u001b[0mn\u001b[0m \u001b[1;33m+=\u001b[0m \u001b[0my\u001b[0m\u001b[1;33m.\u001b[0m\u001b[0msize\u001b[0m\u001b[1;33m\u001b[0m\u001b[0m\n\u001b[0;32m     50\u001b[0m \u001b[1;33m\u001b[0m\u001b[0m\n",
      "\u001b[1;32m~\\AppData\\Local\\Continuum\\anaconda3\\envs\\mxnet-gpu\\lib\\site-packages\\mxnet\\ndarray\\ndarray.py\u001b[0m in \u001b[0;36masscalar\u001b[1;34m(self)\u001b[0m\n\u001b[0;32m   2012\u001b[0m         \u001b[1;32mif\u001b[0m \u001b[0mself\u001b[0m\u001b[1;33m.\u001b[0m\u001b[0mshape\u001b[0m \u001b[1;33m!=\u001b[0m \u001b[1;33m(\u001b[0m\u001b[1;36m1\u001b[0m\u001b[1;33m,\u001b[0m\u001b[1;33m)\u001b[0m\u001b[1;33m:\u001b[0m\u001b[1;33m\u001b[0m\u001b[0m\n\u001b[0;32m   2013\u001b[0m             \u001b[1;32mraise\u001b[0m \u001b[0mValueError\u001b[0m\u001b[1;33m(\u001b[0m\u001b[1;34m\"The current array is not a scalar\"\u001b[0m\u001b[1;33m)\u001b[0m\u001b[1;33m\u001b[0m\u001b[0m\n\u001b[1;32m-> 2014\u001b[1;33m         \u001b[1;32mreturn\u001b[0m \u001b[0mself\u001b[0m\u001b[1;33m.\u001b[0m\u001b[0masnumpy\u001b[0m\u001b[1;33m(\u001b[0m\u001b[1;33m)\u001b[0m\u001b[1;33m[\u001b[0m\u001b[1;36m0\u001b[0m\u001b[1;33m]\u001b[0m\u001b[1;33m\u001b[0m\u001b[0m\n\u001b[0m\u001b[0;32m   2015\u001b[0m \u001b[1;33m\u001b[0m\u001b[0m\n\u001b[0;32m   2016\u001b[0m     \u001b[1;32mdef\u001b[0m \u001b[0mastype\u001b[0m\u001b[1;33m(\u001b[0m\u001b[0mself\u001b[0m\u001b[1;33m,\u001b[0m \u001b[0mdtype\u001b[0m\u001b[1;33m,\u001b[0m \u001b[0mcopy\u001b[0m\u001b[1;33m=\u001b[0m\u001b[1;32mTrue\u001b[0m\u001b[1;33m)\u001b[0m\u001b[1;33m:\u001b[0m\u001b[1;33m\u001b[0m\u001b[0m\n",
      "\u001b[1;32m~\\AppData\\Local\\Continuum\\anaconda3\\envs\\mxnet-gpu\\lib\\site-packages\\mxnet\\ndarray\\ndarray.py\u001b[0m in \u001b[0;36masnumpy\u001b[1;34m(self)\u001b[0m\n\u001b[0;32m   1994\u001b[0m             \u001b[0mself\u001b[0m\u001b[1;33m.\u001b[0m\u001b[0mhandle\u001b[0m\u001b[1;33m,\u001b[0m\u001b[1;33m\u001b[0m\u001b[0m\n\u001b[0;32m   1995\u001b[0m             \u001b[0mdata\u001b[0m\u001b[1;33m.\u001b[0m\u001b[0mctypes\u001b[0m\u001b[1;33m.\u001b[0m\u001b[0mdata_as\u001b[0m\u001b[1;33m(\u001b[0m\u001b[0mctypes\u001b[0m\u001b[1;33m.\u001b[0m\u001b[0mc_void_p\u001b[0m\u001b[1;33m)\u001b[0m\u001b[1;33m,\u001b[0m\u001b[1;33m\u001b[0m\u001b[0m\n\u001b[1;32m-> 1996\u001b[1;33m             ctypes.c_size_t(data.size)))\n\u001b[0m\u001b[0;32m   1997\u001b[0m         \u001b[1;32mreturn\u001b[0m \u001b[0mdata\u001b[0m\u001b[1;33m\u001b[0m\u001b[0m\n\u001b[0;32m   1998\u001b[0m \u001b[1;33m\u001b[0m\u001b[0m\n",
      "\u001b[1;31mKeyboardInterrupt\u001b[0m: "
     ]
    }
   ],
   "source": [
    "adam_optimizer = mx.optimizer.Adam(learning_rate=1e-4, beta1=0.9, beta2=0.9)\n",
    "trainer = gluon.Trainer(net_RESNET.collect_params(), optimizer=adam_optimizer)\n",
    "train(net_RESNET, train_iter, valid_iter, batch_size, trainer, ctx, 5)"
   ]
  },
  {
   "cell_type": "markdown",
   "metadata": {},
   "source": [
    "### Print Accuracy for Testing Data Set"
   ]
  },
  {
   "cell_type": "code",
   "execution_count": 17,
   "metadata": {},
   "outputs": [
    {
     "name": "stdout",
     "output_type": "stream",
     "text": [
      "Accuracy of model is 93.0000 % .\n"
     ]
    }
   ],
   "source": [
    "print('Accuracy of model is %.4f %% .'%(100*evaluate_accuracy(test_iter, net_RESNET, ctx)))"
   ]
  },
  {
   "cell_type": "markdown",
   "metadata": {},
   "source": [
    "### Print Accuracy for Extra Validation Data Set "
   ]
  },
  {
   "cell_type": "code",
   "execution_count": 18,
   "metadata": {},
   "outputs": [
    {
     "name": "stdout",
     "output_type": "stream",
     "text": [
      "Accuracy of model is 73.2143 % .\n"
     ]
    }
   ],
   "source": [
    "print('Accuracy of model is %.4f %% .'%(100*evaluate_accuracy(extra_validation_iter, net_RESNET, ctx)))"
   ]
  },
  {
   "cell_type": "markdown",
   "metadata": {},
   "source": [
    "### Print Accuracy of Final Scoring Data Set"
   ]
  },
  {
   "cell_type": "code",
   "execution_count": 19,
   "metadata": {},
   "outputs": [
    {
     "name": "stdout",
     "output_type": "stream",
     "text": [
      "Accuracy of model is 87.4074 % .\n"
     ]
    }
   ],
   "source": [
    "print('Accuracy of model is %.4f %% .'%(100*evaluate_accuracy(final_validation_iter, net_RESNET, ctx)))"
   ]
  },
  {
   "cell_type": "markdown",
   "metadata": {},
   "source": [
    "### Data Saving and Network Structure"
   ]
  },
  {
   "cell_type": "code",
   "execution_count": 20,
   "metadata": {},
   "outputs": [],
   "source": [
    "#net_RESNET.save_parameters('C:/Users/lab/Jupyter_Notebook/Guan-Ming/Midterm_Project/NN_params/train_test_mixed/RESNET34_DROPOUT_train_data_transposed_2.params')\n",
    "#===============================================================\n",
    "# num_jitter = 3\n",
    "# color_aug = gdata.vision.transforms.RandomColorJitter(brightness=0.3, contrast=0.6)\n",
    "#===============================================================\n",
    "# num_of_output_channels = [64, 128, 256, 512]\n",
    "# num_residuals = [3, 4, 6, 3]\n",
    "\n",
    "# net_RESNET = nn.Sequential() \n",
    "# net_RESNET.add(nn.Conv2D(64, kernel_size=7, strides=2, padding=3),\n",
    "#         nn.BatchNorm(), \n",
    "#         nn.Activation('relu'),\n",
    "#         nn.MaxPool2D(pool_size=3, strides=2, padding=1))\n",
    "\n",
    "# for i, num in enumerate(num_of_output_channels):\n",
    "#     if i==0:\n",
    "#         net_RESNET.add(resnet_block(num, num_residuals[i], first_block=True))\n",
    "#     else:\n",
    "#         net_RESNET.add(resnet_block(num, num_residuals[i]))\n",
    "#     net_RESNET.add(nn.Dropout(0.1))\n",
    "\n",
    "# net_RESNET.add(nn.GlobalAvgPool2D(), nn.Dense(6))\n",
    "#==============================================================="
   ]
  },
  {
   "cell_type": "markdown",
   "metadata": {},
   "source": [
    "### Confusion Matrix of Testing Data Set"
   ]
  },
  {
   "cell_type": "code",
   "execution_count": 21,
   "metadata": {},
   "outputs": [],
   "source": [
    "y_pred_test = np.zeros(total_test_data)\n",
    "count = 0\n",
    "for X, _ in test_iter:\n",
    "    y_pred_test[count:min(count+batch_size, total_test_data)] = net_RESNET(X.as_in_context(ctx)).asnumpy().argmax(axis=1)\n",
    "    count += batch_size\n",
    "wrong_index_test = np.argwhere(y_pred_test!=test_data_y.asnumpy())"
   ]
  },
  {
   "cell_type": "code",
   "execution_count": 22,
   "metadata": {},
   "outputs": [
    {
     "name": "stdout",
     "output_type": "stream",
     "text": [
      "[[49  1  0  0  0  0]\n",
      " [ 0 49  1  0  0  0]\n",
      " [ 0  2 48  0  0  0]\n",
      " [ 0  1  1 48  0  0]\n",
      " [ 1  1  4  1 43  0]\n",
      " [ 3  0  0  4  1 42]]\n",
      "\n",
      "\n",
      "Accuracy of 0 is 98.00 %.\n",
      "Accuracy of 1 is 98.00 %.\n",
      "Accuracy of 2 is 96.00 %.\n",
      "Accuracy of 3 is 96.00 %.\n",
      "Accuracy of 4 is 86.00 %.\n",
      "Accuracy of 5 is 84.00 %.\n"
     ]
    }
   ],
   "source": [
    "result = confusion_matrix(test_data_y.asnumpy(), y_pred_test)\n",
    "print(result)\n",
    "print('\\n')\n",
    "for i in range(6):\n",
    "    print(\"Accuracy of %d is %.2f %%.\" %(i, 100*result[i][i]/result[i].sum()))"
   ]
  },
  {
   "cell_type": "code",
   "execution_count": 23,
   "metadata": {},
   "outputs": [
    {
     "name": "stdout",
     "output_type": "stream",
     "text": [
      "Total 21 wrong predcition. Slide to see the corresponding image.\n"
     ]
    },
    {
     "data": {
      "application/vnd.jupyter.widget-view+json": {
       "model_id": "99393691972e4b5e92da55d59dfbc34b",
       "version_major": 2,
       "version_minor": 0
      },
      "text/plain": [
       "interactive(children=(IntSlider(value=0, description='index_selected', max=20), Output()), _dom_classes=('widg…"
      ]
     },
     "metadata": {},
     "output_type": "display_data"
    }
   ],
   "source": [
    "def PLOT_WRONG_PREDICTION(index_selected):\n",
    "    print(index_selected)\n",
    "    plt.figure(figsize=(3,3), dpi=120)\n",
    "    plt.imshow(test_data_x[wrong_index_test[index_selected]][0].asnumpy().astype(np.uint8))\n",
    "    plt.axis('off')\n",
    "    plt.title(\"NN Recognizes as %d .\\nReal Answer is %d .\" %(y_pred_test[wrong_index_test[index_selected]], test_data_y[wrong_index_test[index_selected]].asscalar()) )\n",
    "    \n",
    "print('Total %d wrong predcition. Slide to see the corresponding image.' %len(wrong_index_test))\n",
    "interact(PLOT_WRONG_PREDICTION, index_selected=IntSlider(value=0, min=0, max=len(wrong_index_test)-1));"
   ]
  },
  {
   "cell_type": "markdown",
   "metadata": {},
   "source": [
    "### Confusion Matrix of Extra Validation Data Set"
   ]
  },
  {
   "cell_type": "code",
   "execution_count": 24,
   "metadata": {},
   "outputs": [],
   "source": [
    "y_pred_extra_validation = np.zeros(total_extra_validation_data)\n",
    "count = 0\n",
    "for X, _ in extra_validation_iter:\n",
    "    y_pred_extra_validation[count:count+batch_size] = net_RESNET(X.as_in_context(ctx)).asnumpy().argmax(axis=1)\n",
    "    count += batch_size\n",
    "wrong_index_extra_validation = np.argwhere(y_pred_extra_validation!=extra_validation_data_y.asnumpy())"
   ]
  },
  {
   "cell_type": "code",
   "execution_count": 25,
   "metadata": {},
   "outputs": [
    {
     "name": "stdout",
     "output_type": "stream",
     "text": [
      "[[ 2  0  0  0  0  0]\n",
      " [ 0  4  2  0  0  0]\n",
      " [ 0  1  5  0  0  0]\n",
      " [ 0  2  4 19  2  0]\n",
      " [ 0  0  0  2  3  0]\n",
      " [ 0  0  0  1  1  8]]\n",
      "\n",
      "\n",
      "Accuracy of 0 is 100.00 %.\n",
      "Accuracy of 1 is 66.67 %.\n",
      "Accuracy of 2 is 83.33 %.\n",
      "Accuracy of 3 is 70.37 %.\n",
      "Accuracy of 4 is 60.00 %.\n",
      "Accuracy of 5 is 80.00 %.\n"
     ]
    }
   ],
   "source": [
    "result = confusion_matrix(extra_validation_data_y.asnumpy(), y_pred_extra_validation)\n",
    "print(result)\n",
    "print('\\n')\n",
    "for i in range(6):\n",
    "    print(\"Accuracy of %d is %.2f %%.\" %(i, 100*result[i][i]/result[i].sum()))"
   ]
  },
  {
   "cell_type": "code",
   "execution_count": 26,
   "metadata": {},
   "outputs": [
    {
     "name": "stdout",
     "output_type": "stream",
     "text": [
      "Total 15 wrong predcition. Slide to see the corresponding image.\n"
     ]
    },
    {
     "data": {
      "application/vnd.jupyter.widget-view+json": {
       "model_id": "40fe774664a54aa286d86c5f46db0bd6",
       "version_major": 2,
       "version_minor": 0
      },
      "text/plain": [
       "interactive(children=(IntSlider(value=0, description='index_selected', max=14), Output()), _dom_classes=('widg…"
      ]
     },
     "metadata": {},
     "output_type": "display_data"
    }
   ],
   "source": [
    "def PLOT_WRONG_PREDICTION(index_selected):\n",
    "    print(index_selected)\n",
    "    plt.figure(figsize=(3,3), dpi=120)\n",
    "    plt.imshow(extra_validation_data_x[wrong_index_extra_validation[index_selected]][0].asnumpy().astype(np.uint8))\n",
    "    plt.axis('off')\n",
    "    plt.title(\"NN Recognizes as %d .\\nReal Answer is %d .\" %(y_pred_extra_validation[wrong_index_extra_validation[index_selected]], extra_validation_data_y[wrong_index_extra_validation[index_selected]].asscalar()) )\n",
    "    \n",
    "print('Total %d wrong predcition. Slide to see the corresponding image.' %len(wrong_index_extra_validation))\n",
    "interact(PLOT_WRONG_PREDICTION, index_selected=IntSlider(value=0, min=0, max=len(wrong_index_extra_validation)-1));"
   ]
  },
  {
   "cell_type": "markdown",
   "metadata": {},
   "source": [
    "### Confusion Matrix of Final Validation Data Set"
   ]
  },
  {
   "cell_type": "code",
   "execution_count": 27,
   "metadata": {},
   "outputs": [],
   "source": [
    "y_pred_final_validation = np.zeros(total_final_validation_data)\n",
    "count = 0\n",
    "for X, _ in final_validation_iter:\n",
    "    y_pred_final_validation[count:count+batch_size] = net_RESNET(X.as_in_context(ctx)).asnumpy().argmax(axis=1)\n",
    "    count += batch_size\n",
    "wrong_index_final_validation = np.argwhere(y_pred_final_validation!=final_validation_data_y.asnumpy())"
   ]
  },
  {
   "cell_type": "code",
   "execution_count": 28,
   "metadata": {},
   "outputs": [
    {
     "name": "stdout",
     "output_type": "stream",
     "text": [
      "[[58  3  4  0  0  0]\n",
      " [ 1 62  2  1  0  1]\n",
      " [ 1  4 59  2  0  0]\n",
      " [ 0  6  3 60  0  1]\n",
      " [ 2  4  1  3 60  1]\n",
      " [ 1  2  1  4  3 55]]\n",
      "\n",
      "\n",
      "Accuracy of 0 is 89.23 %.\n",
      "Accuracy of 1 is 92.54 %.\n",
      "Accuracy of 2 is 89.39 %.\n",
      "Accuracy of 3 is 85.71 %.\n",
      "Accuracy of 4 is 84.51 %.\n",
      "Accuracy of 5 is 83.33 %.\n"
     ]
    }
   ],
   "source": [
    "result = confusion_matrix(final_validation_data_y.asnumpy(), y_pred_final_validation)\n",
    "print(result)\n",
    "print('\\n')\n",
    "for i in range(6):\n",
    "    print(\"Accuracy of %d is %.2f %%.\" %(i, 100*result[i][i]/result[i].sum()))"
   ]
  },
  {
   "cell_type": "code",
   "execution_count": 29,
   "metadata": {},
   "outputs": [
    {
     "name": "stdout",
     "output_type": "stream",
     "text": [
      "Total 51 wrong predcition. Slide to see the corresponding image.\n"
     ]
    },
    {
     "data": {
      "application/vnd.jupyter.widget-view+json": {
       "model_id": "8446b4448a334abdbc3a76f60524b2ca",
       "version_major": 2,
       "version_minor": 0
      },
      "text/plain": [
       "interactive(children=(IntSlider(value=0, description='index_selected', max=50), Output()), _dom_classes=('widg…"
      ]
     },
     "metadata": {},
     "output_type": "display_data"
    }
   ],
   "source": [
    "def PLOT_WRONG_PREDICTION(index_selected):\n",
    "    print(index_selected)\n",
    "    plt.figure(figsize=(3,3), dpi=120)\n",
    "    plt.imshow(final_validation_data_x[wrong_index_final_validation[index_selected]][0].asnumpy().astype(np.uint8))\n",
    "    plt.axis('off')\n",
    "    plt.title(\"NN Recognizes as %d .\\nReal Answer is %d .\" %(y_pred_final_validation[wrong_index_final_validation[index_selected]], final_validation_data_y[wrong_index_final_validation[index_selected]].asscalar()) )\n",
    "    \n",
    "print('Total %d wrong predcition. Slide to see the corresponding image.' %len(wrong_index_final_validation))\n",
    "interact(PLOT_WRONG_PREDICTION, index_selected=IntSlider(value=0, min=0, max=len(wrong_index_final_validation)-1));"
   ]
  }
 ],
 "metadata": {
  "kernelspec": {
   "display_name": "Python 3",
   "language": "python",
   "name": "python3"
  },
  "language_info": {
   "codemirror_mode": {
    "name": "ipython",
    "version": 3
   },
   "file_extension": ".py",
   "mimetype": "text/x-python",
   "name": "python",
   "nbconvert_exporter": "python",
   "pygments_lexer": "ipython3",
   "version": "3.5.5"
  }
 },
 "nbformat": 4,
 "nbformat_minor": 2
}
