{
 "cells": [
  {
   "cell_type": "markdown",
   "metadata": {},
   "source": [
    "### Data Augumentation"
   ]
  },
  {
   "cell_type": "code",
   "execution_count": 232,
   "metadata": {},
   "outputs": [],
   "source": [
    "import numpy as np\n",
    "import os, sys, cv2, time\n",
    "import matplotlib.pyplot as plt\n",
    "import mxnet as mx\n",
    "from mxnet import gluon, init, autograd, nd, image\n",
    "from mxnet.gluon import data as gdata, utils as gutils, nn, loss as gloss\n",
    "from shutil import copyfile\n",
    "from mxnet.gluon.data.vision import datasets, transforms\n",
    "from sklearn.metrics import confusion_matrix"
   ]
  },
  {
   "cell_type": "code",
   "execution_count": 2,
   "metadata": {},
   "outputs": [],
   "source": [
    "target_folder = 'D:/LectureData/Introduction_to_Deep_Learning/Midterm_Project/all_data_resize/'\n",
    "output_folder = 'D:/LectureData/Introduction_to_Deep_Learning/Midterm_Project/all_data_final_transposed/'\n",
    "test_data_folder = 'D:/LectureData/Introduction_to_Deep_Learning/Midterm_Project/test_data_resize/'"
   ]
  },
  {
   "cell_type": "code",
   "execution_count": 12,
   "metadata": {},
   "outputs": [],
   "source": [
    "# name = 'resized_two_50.jpg'\n",
    "# img = image.imread(target_folder+name)\n",
    "# color_aug = gdata.vision.transforms.RandomColorJitter(brightness=0.25, contrast=0.6)\n",
    "# for i in range(6):\n",
    "#     name_jitter = str('color_jitter%d_'%(i))\n",
    "#     img_color_jitter = color_aug(img)\n",
    "#     img_color_jitter_np = img_color_jitter.asnumpy()\n",
    "#     plt.imshow(img_color_jitter_np)\n",
    "#     plt.axis('off')\n",
    "#     plt.show()\n",
    "# img.shape"
   ]
  },
  {
   "cell_type": "code",
   "execution_count": 3,
   "metadata": {},
   "outputs": [],
   "source": [
    "files = os.listdir(target_folder)\n",
    "pictures_resized = []\n",
    "for f in files:\n",
    "    if '.jpg' in f:\n",
    "        pictures_resized.append(f)\n",
    "\n",
    "for index in range(len(pictures_resized)):\n",
    "#for index in range(1):\n",
    "    \n",
    "    name = pictures_resized[index]\n",
    "    img = image.imread(target_folder+name)\n",
    "    img_np = img.asnumpy()\n",
    "    num_jitter = 2\n",
    "    #num_jitter = 5\n",
    "    color_aug = gdata.vision.transforms.RandomColorJitter(brightness=0.4, contrast=0.3)\n",
    "    #color_aug = gdata.vision.transforms.RandomColorJitter(brightness=0.25, contrast=0.6)\n",
    "    aug_1 = gdata.vision.transforms.RandomFlipLeftRight()\n",
    "    aug_2 = gdata.vision.transforms.RandomFlipTopBottom()\n",
    "\n",
    "# left-right flip\n",
    "    success = False\n",
    "    while not success:\n",
    "        img_lr_flip = aug_1(img)\n",
    "        img_lr_flip = img_lr_flip.asnumpy()\n",
    "        if (img_lr_flip!=img_np).sum()!=0:\n",
    "            success = True\n",
    "            cv2.imwrite(output_folder+'left_right_flipped_'+name, img_lr_flip[:,:,::-1])\n",
    "# top-down flip\n",
    "    success = False\n",
    "    while not success:\n",
    "        img_tb_flip = aug_2(img)\n",
    "        img_tb_flip = img_tb_flip.asnumpy()\n",
    "        if (img_tb_flip!=img_np).sum()!=0:\n",
    "            success = True\n",
    "            cv2.imwrite(output_folder+'top_down_flipped_'+name, img_tb_flip[:,:,::-1])\n",
    "# color jitters\n",
    "    for i in range(num_jitter):\n",
    "        name_jitter = str('color_jitter%d_'%(i))\n",
    "        img_color_jitter = color_aug(img)\n",
    "        img_color_jitter_np = img_color_jitter.asnumpy()\n",
    "        cv2.imwrite(output_folder+name_jitter+name, img_color_jitter_np[:,:,::-1])\n",
    "# left-right flip-color jitters        \n",
    "        success = False\n",
    "        while not success:\n",
    "            img_lr_flip = aug_1(img_color_jitter)\n",
    "            img_lr_flip = img_lr_flip.asnumpy()\n",
    "            if (img_lr_flip!=img_color_jitter_np).sum()!=0:\n",
    "                success = True\n",
    "                cv2.imwrite(output_folder+'left_right_flipped_'+name_jitter+name, img_lr_flip[:,:,::-1])\n",
    "# top-down flip-color jitters\n",
    "        success = False\n",
    "        while not success:\n",
    "            img_tb_flip = aug_2(img_color_jitter)\n",
    "            img_tb_flip = img_tb_flip.asnumpy()\n",
    "            if (img_tb_flip!=img_color_jitter_np).sum()!=0:\n",
    "                success = True\n",
    "                cv2.imwrite(output_folder+'top_down_flipped_'+name_jitter+name, img_tb_flip[:,:,::-1])\n",
    "    copyfile(target_folder+name, output_folder+name)"
   ]
  },
  {
   "cell_type": "code",
   "execution_count": 4,
   "metadata": {},
   "outputs": [],
   "source": [
    "files = os.listdir(output_folder)\n",
    "pictures_list = []\n",
    "for f in files:\n",
    "    if '.jpg' in f:\n",
    "        pictures_list.append(f)\n",
    "        \n",
    "for name in pictures_list:\n",
    "    img = image.imread(output_folder+name)\n",
    "    img_np = img.asnumpy()\n",
    "    \n",
    "    img_transpose = np.zeros_like(img_np)\n",
    "    for channels in range(3):\n",
    "        img_transpose[:,:,channels] = img_np[:,:, channels].T\n",
    "    cv2.imwrite(output_folder+'transposed_'+name, img_transpose[:,:,::-1])"
   ]
  },
  {
   "cell_type": "code",
   "execution_count": 15,
   "metadata": {},
   "outputs": [],
   "source": [
    "# for index in range(len(pictures_resized)):\n",
    "#     name = pictures_resized[index]\n",
    "#     img = image.imread(target_folder+name)\n",
    "#     img_np = img.asnumpy()\n",
    "#     num_jitter = 5\n",
    "#     color_aug = gdata.vision.transforms.RandomColorJitter(brightness=0.25, contrast=0.6)\n",
    "# # color jitters    \n",
    "#     for i in range(num_jitter):\n",
    "#         name_jitter = str('color_jitter%d_'%(i))\n",
    "#         img_color_jitter = color_aug(img)\n",
    "#         img_color_jitter_np = img_color_jitter.asnumpy()\n",
    "#         cv2.imwrite(output_folder+name_jitter+name, img_color_jitter_np[:,:,::-1])\n",
    "# # copy original pictures\n",
    "#     copyfile(target_folder+name, output_folder+name)"
   ]
  },
  {
   "cell_type": "markdown",
   "metadata": {},
   "source": [
    "### Read in training data"
   ]
  },
  {
   "cell_type": "code",
   "execution_count": 5,
   "metadata": {},
   "outputs": [
    {
     "name": "stdout",
     "output_type": "stream",
     "text": [
      "Sum check pass!\n"
     ]
    }
   ],
   "source": [
    "files = os.listdir(output_folder)\n",
    "total_data = len(files)\n",
    "data_x = nd.zeros((total_data, 256, 256, 3)).astype(np.uint8)\n",
    "data_y = nd.zeros(total_data)\n",
    "total_num = 0\n",
    "\n",
    "for index, f in enumerate(files):\n",
    "    data_x[index] = image.imread(output_folder+f)\n",
    "#     plt.imshow(data_x[index].asnumpy())\n",
    "#     plt.axis('off')\n",
    "#     plt.show()\n",
    "    if 'zero' in f:\n",
    "        data_y[index] = 0\n",
    "        total_num += 1\n",
    "    elif 'one' in f:\n",
    "        data_y[index] = 1\n",
    "        total_num += 1\n",
    "    elif 'two' in f:\n",
    "        data_y[index] = 2\n",
    "        total_num += 1\n",
    "    elif 'three' in f:\n",
    "        data_y[index] = 3\n",
    "        total_num += 1\n",
    "    elif 'four' in f:\n",
    "        data_y[index] = 4\n",
    "        total_num += 1\n",
    "    elif 'five' in f:\n",
    "        data_y[index] = 5\n",
    "        total_num += 1\n",
    "    else:\n",
    "        raise RuntimeError('Cannot label training data!')\n",
    "#    break\n",
    "\n",
    "if total_num == total_data:\n",
    "    print(\"Sum check pass!\")"
   ]
  },
  {
   "cell_type": "markdown",
   "metadata": {},
   "source": [
    "### Read in testing data"
   ]
  },
  {
   "cell_type": "code",
   "execution_count": 6,
   "metadata": {},
   "outputs": [],
   "source": [
    "files = os.listdir(test_data_folder)\n",
    "total_test_data = len(files)\n",
    "test_data_x = nd.zeros((total_test_data, 256, 256, 3)).astype(np.uint8)\n",
    "test_data_y = nd.zeros(total_test_data)\n",
    "total_num = 0\n",
    "np.random.seed = 123456\n",
    "test_index_order = np.arange(total_test_data)\n",
    "np.random.shuffle(test_index_order)\n",
    "\n",
    "for index, index_shuffled in enumerate(test_index_order):\n",
    "    f = files[index_shuffled]\n",
    "    test_data_x[index] = image.imread(test_data_folder+f)\n",
    "    label = f.replace('resized_','').split('_', 1)[0]\n",
    "    if label == '0':\n",
    "        test_data_y[index] = 0\n",
    "        total_num += 1\n",
    "    elif label == '1':\n",
    "        test_data_y[index] = 1\n",
    "        total_num += 1\n",
    "    elif label == '2':\n",
    "        test_data_y[index] = 2\n",
    "        total_num += 1\n",
    "    elif label == '3':\n",
    "        test_data_y[index] = 3\n",
    "        total_num += 1\n",
    "    elif label == '4':\n",
    "        test_data_y[index] = 4\n",
    "        total_num += 1\n",
    "    elif label == '5':\n",
    "        test_data_y[index] = 5\n",
    "        total_num += 1\n",
    "    else:\n",
    "        raise RuntimeError('Cannot label testation data!')"
   ]
  },
  {
   "cell_type": "code",
   "execution_count": 7,
   "metadata": {},
   "outputs": [],
   "source": [
    "data_index = np.arange(total_data)\n",
    "train_size = 0.65\n",
    "np.random.seed = 61387454\n",
    "np.random.shuffle(data_index)\n",
    "train_index = data_index[:np.int32(total_data*train_size)]\n",
    "valid_index = data_index[np.int32(total_data*train_size):]\n",
    "train_data_x = data_x[train_index]\n",
    "train_data_y = data_y[train_index]\n",
    "valid_data_x = data_x[valid_index]\n",
    "valid_data_y = data_y[valid_index]"
   ]
  },
  {
   "cell_type": "code",
   "execution_count": 8,
   "metadata": {},
   "outputs": [
    {
     "data": {
      "text/plain": [
       "([0.59393633368451171, 0.53837742906892838, 0.50362952280148243],\n",
       " [0.28901385643565913, 0.28323172357882542, 0.28507930770117917])"
      ]
     },
     "execution_count": 8,
     "metadata": {},
     "output_type": "execute_result"
    }
   ],
   "source": [
    "train_mean_r = (train_data_x[:,:,:,0].asnumpy()/255).mean()\n",
    "train_mean_g = (train_data_x[:,:,:,1].asnumpy()/255).mean()\n",
    "train_mean_b = (train_data_x[:,:,:,2].asnumpy()/255).mean()\n",
    "train_std_r = (train_data_x[:,:,:,0].asnumpy()/255).std()\n",
    "train_std_g = (train_data_x[:,:,:,1].asnumpy()/255).std()\n",
    "train_std_b = (train_data_x[:,:,:,2].asnumpy()/255).std()\n",
    "train_mean = [train_mean_r, train_mean_g, train_mean_b]\n",
    "train_std = [train_std_r, train_std_g, train_std_b]\n",
    "# train_mean = [0.5880151997250508, 0.5314251319118205, 0.4955052262771533]\n",
    "# train_std = [0.2874056469497329, 0.2798661415776773, 0.28073682793322985]\n",
    "train_mean, train_std"
   ]
  },
  {
   "cell_type": "markdown",
   "metadata": {},
   "source": [
    "### Use gdata to form train dataset and test dataset"
   ]
  },
  {
   "cell_type": "code",
   "execution_count": 9,
   "metadata": {},
   "outputs": [],
   "source": [
    "batch_size = 64\n",
    "train_dataset = gdata.ArrayDataset(train_data_x, train_data_y)\n",
    "valid_dataset = gdata.ArrayDataset(valid_data_x, valid_data_y)\n",
    "test_dataset = gdata.ArrayDataset(test_data_x, test_data_y)\n",
    "\n",
    "# index = np.random.randint(total_valid_data)\n",
    "# count = 0\n",
    "# for X, y in valid_dataset:\n",
    "#     if count==index:\n",
    "#         plt.imshow(X.asnumpy())\n",
    "#         plt.axis('off')\n",
    "#         plt.show()\n",
    "#         print('Label is %d .'%y)\n",
    "#         break\n",
    "#     count += 1\n",
    "    \n",
    "transformer = []\n",
    "transformer += [gdata.vision.transforms.ToTensor()] # transer the train data from shape (sample, H, W, channel) to (sample, channel, H, W) and rescale to between 0 and 1 \n",
    "transformer += [gdata.vision.transforms.Normalize(train_mean, train_std)]\n",
    "transformer = gdata.vision.transforms.Compose(transformer)\n",
    "num_workers = 0 if sys.platform.startswith('win32') else 4\n",
    "\n",
    "train_iter = gdata.DataLoader(train_dataset.transform_first(transformer), batch_size = batch_size, shuffle=True, num_workers=num_workers)\n",
    "valid_iter = gdata.DataLoader(valid_dataset.transform_first(transformer), batch_size = batch_size, shuffle=False, num_workers=num_workers)\n",
    "test_iter = gdata.DataLoader(test_dataset.transform_first(transformer), batch_size = batch_size, shuffle=False, num_workers=num_workers)"
   ]
  },
  {
   "cell_type": "code",
   "execution_count": 22,
   "metadata": {},
   "outputs": [],
   "source": [
    "# index = np.random.randint(batch_size)\n",
    "# count = 0\n",
    "# img = nd.zeros((256, 256, 3))\n",
    "# for X, y in test_iter:\n",
    "#     X = X*255\n",
    "#     img[:,:,0] = X[index,0,:,:]\n",
    "#     img[:,:,1] = X[index,1,:,:]\n",
    "#     img[:,:,2] = X[index,2,:,:]\n",
    "#     plt.imshow( ((img.asnumpy())//1).astype(np.uint8) )\n",
    "#     plt.axis('off')\n",
    "#     plt.show()\n",
    "#     print('Label is %d .'%y[index].asscalar())\n",
    "#     break"
   ]
  },
  {
   "cell_type": "code",
   "execution_count": 10,
   "metadata": {},
   "outputs": [],
   "source": [
    "def try_gpu():\n",
    "    \"\"\"If GPU is available, return mx.gpu(0); else return mx.cpu().\"\"\"\n",
    "    try:\n",
    "        ctx = mx.gpu()\n",
    "        _ = nd.array([0], ctx=ctx)\n",
    "    except mx.base.MXNetError:\n",
    "        ctx = mx.cpu()\n",
    "    return ctx\n",
    "def evaluate_accuracy(data_iter, net, ctx=[mx.cpu()]):\n",
    "    \"\"\"Evaluate accuracy of a model on the given data set.\"\"\"\n",
    "    if isinstance(ctx, mx.Context):\n",
    "        ctx = [ctx]\n",
    "    acc_sum, n = nd.array([0]), 0\n",
    "    for batch in data_iter:\n",
    "        features, labels, _ = _get_batch(batch, ctx)\n",
    "        for X, y in zip(features, labels):\n",
    "            y = y.astype('float32')\n",
    "            acc_sum += (net(X).argmax(axis=1) == y).sum().copyto(mx.cpu())\n",
    "            n += y.size\n",
    "        acc_sum.wait_to_read()\n",
    "    return acc_sum.asscalar() / n\n",
    "\n",
    "def _get_batch(batch, ctx):\n",
    "    \"\"\"Return features and labels on ctx.\"\"\"\n",
    "    features, labels = batch\n",
    "    if labels.dtype != features.dtype:\n",
    "        labels = labels.astype(features.dtype)\n",
    "    return (gutils.split_and_load(features, ctx),\n",
    "            gutils.split_and_load(labels, ctx), features.shape[0])\n",
    "\n",
    "def train(net, train_iter, test_iter, batch_size, trainer, ctx, num_epochs):\n",
    "    \"\"\"Train and evaluate a model with CPU or GPU.\"\"\"\n",
    "    print('training on', ctx)\n",
    "    loss = gloss.SoftmaxCrossEntropyLoss()\n",
    "    average_time = 0.0\n",
    "    \n",
    "    for epoch in range(num_epochs):\n",
    "        train_l_sum, train_acc_sum, n, start = 0.0, 0.0, 0, time.time()\n",
    "        for X, y in train_iter:\n",
    "            X, y = X.as_in_context(ctx), y.as_in_context(ctx)\n",
    "            with autograd.record():\n",
    "                y_hat = net(X)            \n",
    "                l = loss(y_hat, y).sum()\n",
    "            l.backward()\n",
    "            trainer.step(batch_size)\n",
    "            y = y.astype('float32')\n",
    "            train_l_sum += l.asscalar()\n",
    "            train_acc_sum += (y_hat.argmax(axis=1) == y).sum().asscalar()\n",
    "            n += y.size\n",
    "        \n",
    "        test_acc = evaluate_accuracy(test_iter, net, ctx)\n",
    "        epoch_time = time.time() - start\n",
    "        print('epoch %d, loss %.4f, train acc %.3f, test acc %.3f, '\n",
    "              'time %.1f sec'\n",
    "              % (epoch + 1, train_l_sum / n, train_acc_sum / n, test_acc, epoch_time))\n",
    "        average_time += epoch_time\n",
    "    print('Average time per epoch is %.4f s.'%(average_time/num_epochs))"
   ]
  },
  {
   "cell_type": "code",
   "execution_count": 11,
   "metadata": {},
   "outputs": [],
   "source": [
    "ctx = try_gpu()"
   ]
  },
  {
   "cell_type": "code",
   "execution_count": 12,
   "metadata": {},
   "outputs": [],
   "source": [
    "class Residual(nn.Block):\n",
    "    def __init__(self, num_channels, use_1x1conv=False, strides=1, **kwargs):\n",
    "        super(Residual, self).__init__(**kwargs) \n",
    "        self.conv1 = nn.Conv2D(num_channels, kernel_size=3, padding=1, strides=strides) # this layer down-sampling the input\n",
    "        self.conv2 = nn.Conv2D(num_channels, kernel_size=3, padding=1)  # the layer doesn't down-sampling the input\n",
    "        \n",
    "        if use_1x1conv:\n",
    "            self.conv3 = nn.Conv2D(num_channels, kernel_size=1, strides=strides)\n",
    "            # to match the dimension of feature map of conv1 + conv2, the strides must be set to be identicla to conv 1\n",
    "        else: \n",
    "            self.conv3 = None \n",
    "            \n",
    "        self.bn1 = nn.BatchNorm() \n",
    "        self.bn2 = nn.BatchNorm()\n",
    "        \n",
    "    def forward(self, X):\n",
    "        Y = nd.relu(self.bn1(self.conv1(X)))\n",
    "        Y = self.bn2(self.conv2(Y)) \n",
    "        if self.conv3:\n",
    "            X = self.conv3(X)\n",
    "\n",
    "        return nd.relu(Y + X)\n",
    "    \n",
    "def resnet_block(num_channels, num_residuals, first_block=False): \n",
    "    blk = nn.Sequential() \n",
    "    for i in range(num_residuals): \n",
    "        if i == 0 and not first_block:\n",
    "            #net.add(Residual(num_channels, use_1x1conv=True, strides=2))\n",
    "            blk.add(Residual(num_channels, use_1x1conv=True, strides=2))\n",
    "        else:\n",
    "            #net.add(Residual(num_channels, strides=1))\n",
    "            blk.add(Residual(num_channels, strides=1))\n",
    "    return blk"
   ]
  },
  {
   "cell_type": "code",
   "execution_count": 425,
   "metadata": {},
   "outputs": [],
   "source": [
    "num_of_output_channels = [64, 128, 256, 512]\n",
    "num_residuals = [2, 2, 2, 2]\n",
    "\n",
    "net_RESNET = nn.Sequential() \n",
    "net_RESNET.add(nn.Conv2D(64, kernel_size=7, strides=2, padding=3),\n",
    "        nn.BatchNorm(), \n",
    "        nn.Activation('relu'),\n",
    "        nn.MaxPool2D(pool_size=3, strides=2, padding=1))\n",
    "\n",
    "for i, num in enumerate(num_of_output_channels):\n",
    "    if i==0:\n",
    "        net_RESNET.add(resnet_block(num, num_residuals[i], first_block=True))\n",
    "    else:\n",
    "        net_RESNET.add(resnet_block(num, num_residuals[i]))\n",
    "    net_RESNET.add(nn.Dropout(0.3))\n",
    "\n",
    "net_RESNET.add(nn.GlobalAvgPool2D(), nn.Dense(6))"
   ]
  },
  {
   "cell_type": "code",
   "execution_count": 457,
   "metadata": {},
   "outputs": [],
   "source": [
    "net_RESNET.load_parameters('C:/Users/User/Introduction_to_Deep_Learning/Midterm_Project/lab9/Hand_Out/train_test_mixed/RESNET18_DROPOUT_train_data_transposed_2.params', ctx= ctx)\n",
    "#net_RESNET.initialize(ctx=ctx, init=mx.init.Xavier(rnd_type ='gaussian', factor_type='in', magnitude=2.0))"
   ]
  },
  {
   "cell_type": "code",
   "execution_count": 427,
   "metadata": {},
   "outputs": [
    {
     "name": "stdout",
     "output_type": "stream",
     "text": [
      "--------------------------------------------------------------------------------\n",
      "        Layer (type)                                Output Shape         Param #\n",
      "================================================================================\n",
      "               Input                           (64, 3, 256, 256)               0\n",
      "            Conv2D-1                          (64, 64, 128, 128)            9472\n",
      "         BatchNorm-2                          (64, 64, 128, 128)             256\n",
      "        Activation-3                          (64, 64, 128, 128)               0\n",
      "         MaxPool2D-4                            (64, 64, 64, 64)               0\n",
      "            Conv2D-5                            (64, 64, 64, 64)           36928\n",
      "         BatchNorm-6                            (64, 64, 64, 64)             256\n",
      "            Conv2D-7                            (64, 64, 64, 64)           36928\n",
      "         BatchNorm-8                            (64, 64, 64, 64)             256\n",
      "          Residual-9                            (64, 64, 64, 64)               0\n",
      "           Conv2D-10                            (64, 64, 64, 64)           36928\n",
      "        BatchNorm-11                            (64, 64, 64, 64)             256\n",
      "           Conv2D-12                            (64, 64, 64, 64)           36928\n",
      "        BatchNorm-13                            (64, 64, 64, 64)             256\n",
      "         Residual-14                            (64, 64, 64, 64)               0\n",
      "          Dropout-15                            (64, 64, 64, 64)               0\n",
      "           Conv2D-16                           (64, 128, 32, 32)           73856\n",
      "        BatchNorm-17                           (64, 128, 32, 32)             512\n",
      "           Conv2D-18                           (64, 128, 32, 32)          147584\n",
      "        BatchNorm-19                           (64, 128, 32, 32)             512\n",
      "           Conv2D-20                           (64, 128, 32, 32)            8320\n",
      "         Residual-21                           (64, 128, 32, 32)               0\n",
      "           Conv2D-22                           (64, 128, 32, 32)          147584\n",
      "        BatchNorm-23                           (64, 128, 32, 32)             512\n",
      "           Conv2D-24                           (64, 128, 32, 32)          147584\n",
      "        BatchNorm-25                           (64, 128, 32, 32)             512\n",
      "         Residual-26                           (64, 128, 32, 32)               0\n",
      "          Dropout-27                           (64, 128, 32, 32)               0\n",
      "           Conv2D-28                           (64, 256, 16, 16)          295168\n",
      "        BatchNorm-29                           (64, 256, 16, 16)            1024\n",
      "           Conv2D-30                           (64, 256, 16, 16)          590080\n",
      "        BatchNorm-31                           (64, 256, 16, 16)            1024\n",
      "           Conv2D-32                           (64, 256, 16, 16)           33024\n",
      "         Residual-33                           (64, 256, 16, 16)               0\n",
      "           Conv2D-34                           (64, 256, 16, 16)          590080\n",
      "        BatchNorm-35                           (64, 256, 16, 16)            1024\n",
      "           Conv2D-36                           (64, 256, 16, 16)          590080\n",
      "        BatchNorm-37                           (64, 256, 16, 16)            1024\n",
      "         Residual-38                           (64, 256, 16, 16)               0\n",
      "          Dropout-39                           (64, 256, 16, 16)               0\n",
      "           Conv2D-40                             (64, 512, 8, 8)         1180160\n",
      "        BatchNorm-41                             (64, 512, 8, 8)            2048\n",
      "           Conv2D-42                             (64, 512, 8, 8)         2359808\n",
      "        BatchNorm-43                             (64, 512, 8, 8)            2048\n",
      "           Conv2D-44                             (64, 512, 8, 8)          131584\n",
      "         Residual-45                             (64, 512, 8, 8)               0\n",
      "           Conv2D-46                             (64, 512, 8, 8)         2359808\n",
      "        BatchNorm-47                             (64, 512, 8, 8)            2048\n",
      "           Conv2D-48                             (64, 512, 8, 8)         2359808\n",
      "        BatchNorm-49                             (64, 512, 8, 8)            2048\n",
      "         Residual-50                             (64, 512, 8, 8)               0\n",
      "          Dropout-51                             (64, 512, 8, 8)               0\n",
      "  GlobalAvgPool2D-52                             (64, 512, 1, 1)               0\n",
      "            Dense-53                                     (64, 6)            3078\n",
      "================================================================================\n",
      "Parameters in forward computation graph, duplicate included\n",
      "   Total params: 11190406\n",
      "   Trainable params: 11182598\n",
      "   Non-trainable params: 7808\n",
      "Shared params in forward computation graph: 0\n",
      "Unique parameters in model: 11190406\n",
      "--------------------------------------------------------------------------------\n"
     ]
    }
   ],
   "source": [
    "for X,_ in train_iter:\n",
    "    net_RESNET.summary(X.as_in_context(ctx))\n",
    "    break"
   ]
  },
  {
   "cell_type": "code",
   "execution_count": 74,
   "metadata": {},
   "outputs": [
    {
     "name": "stdout",
     "output_type": "stream",
     "text": [
      "training on gpu(0)\n",
      "epoch 1, loss 0.0777, train acc 0.972, test acc 0.995, time 37.5 sec\n",
      "epoch 2, loss 0.0534, train acc 0.983, test acc 0.996, time 36.9 sec\n",
      "epoch 3, loss 0.0389, train acc 0.989, test acc 0.996, time 36.9 sec\n",
      "epoch 4, loss 0.0296, train acc 0.992, test acc 0.997, time 37.1 sec\n",
      "epoch 5, loss 0.0271, train acc 0.992, test acc 0.997, time 37.5 sec\n"
     ]
    },
    {
     "ename": "KeyboardInterrupt",
     "evalue": "",
     "output_type": "error",
     "traceback": [
      "\u001b[1;31m---------------------------------------------------------------------------\u001b[0m",
      "\u001b[1;31mKeyboardInterrupt\u001b[0m                         Traceback (most recent call last)",
      "\u001b[1;32m<ipython-input-74-604711efadc8>\u001b[0m in \u001b[0;36m<module>\u001b[1;34m()\u001b[0m\n\u001b[0;32m      1\u001b[0m \u001b[0madam_optimizer\u001b[0m \u001b[1;33m=\u001b[0m \u001b[0mmx\u001b[0m\u001b[1;33m.\u001b[0m\u001b[0moptimizer\u001b[0m\u001b[1;33m.\u001b[0m\u001b[0mAdam\u001b[0m\u001b[1;33m(\u001b[0m\u001b[0mlearning_rate\u001b[0m\u001b[1;33m=\u001b[0m\u001b[1;36m0.5e-4\u001b[0m\u001b[1;33m,\u001b[0m \u001b[0mbeta1\u001b[0m\u001b[1;33m=\u001b[0m\u001b[1;36m0.9\u001b[0m\u001b[1;33m,\u001b[0m \u001b[0mbeta2\u001b[0m\u001b[1;33m=\u001b[0m\u001b[1;36m0.9\u001b[0m\u001b[1;33m)\u001b[0m\u001b[1;33m\u001b[0m\u001b[0m\n\u001b[0;32m      2\u001b[0m \u001b[0mtrainer\u001b[0m \u001b[1;33m=\u001b[0m \u001b[0mgluon\u001b[0m\u001b[1;33m.\u001b[0m\u001b[0mTrainer\u001b[0m\u001b[1;33m(\u001b[0m\u001b[0mnet_RESNET\u001b[0m\u001b[1;33m.\u001b[0m\u001b[0mcollect_params\u001b[0m\u001b[1;33m(\u001b[0m\u001b[1;33m)\u001b[0m\u001b[1;33m,\u001b[0m \u001b[0moptimizer\u001b[0m\u001b[1;33m=\u001b[0m\u001b[0madam_optimizer\u001b[0m\u001b[1;33m)\u001b[0m\u001b[1;33m\u001b[0m\u001b[0m\n\u001b[1;32m----> 3\u001b[1;33m \u001b[0mtrain\u001b[0m\u001b[1;33m(\u001b[0m\u001b[0mnet_RESNET\u001b[0m\u001b[1;33m,\u001b[0m \u001b[0mtrain_iter\u001b[0m\u001b[1;33m,\u001b[0m \u001b[0mvalid_iter\u001b[0m\u001b[1;33m,\u001b[0m \u001b[0mbatch_size\u001b[0m\u001b[1;33m,\u001b[0m \u001b[0mtrainer\u001b[0m\u001b[1;33m,\u001b[0m \u001b[0mctx\u001b[0m\u001b[1;33m,\u001b[0m \u001b[1;36m10\u001b[0m\u001b[1;33m)\u001b[0m\u001b[1;33m\u001b[0m\u001b[0m\n\u001b[0m",
      "\u001b[1;32m<ipython-input-67-a3c0bc063b67>\u001b[0m in \u001b[0;36mtrain\u001b[1;34m(net, train_iter, test_iter, batch_size, trainer, ctx, num_epochs)\u001b[0m\n\u001b[0;32m     62\u001b[0m                 \u001b[0my_hat\u001b[0m \u001b[1;33m=\u001b[0m \u001b[0mnet\u001b[0m\u001b[1;33m(\u001b[0m\u001b[0mX\u001b[0m\u001b[1;33m)\u001b[0m\u001b[1;33m\u001b[0m\u001b[0m\n\u001b[0;32m     63\u001b[0m                 \u001b[0ml\u001b[0m \u001b[1;33m=\u001b[0m \u001b[0mloss\u001b[0m\u001b[1;33m(\u001b[0m\u001b[0my_hat\u001b[0m\u001b[1;33m,\u001b[0m \u001b[0my\u001b[0m\u001b[1;33m)\u001b[0m\u001b[1;33m.\u001b[0m\u001b[0msum\u001b[0m\u001b[1;33m(\u001b[0m\u001b[1;33m)\u001b[0m\u001b[1;33m\u001b[0m\u001b[0m\n\u001b[1;32m---> 64\u001b[1;33m             \u001b[0ml\u001b[0m\u001b[1;33m.\u001b[0m\u001b[0mbackward\u001b[0m\u001b[1;33m(\u001b[0m\u001b[1;33m)\u001b[0m\u001b[1;33m\u001b[0m\u001b[0m\n\u001b[0m\u001b[0;32m     65\u001b[0m             \u001b[0mtrainer\u001b[0m\u001b[1;33m.\u001b[0m\u001b[0mstep\u001b[0m\u001b[1;33m(\u001b[0m\u001b[0mbatch_size\u001b[0m\u001b[1;33m)\u001b[0m\u001b[1;33m\u001b[0m\u001b[0m\n\u001b[0;32m     66\u001b[0m             \u001b[0my\u001b[0m \u001b[1;33m=\u001b[0m \u001b[0my\u001b[0m\u001b[1;33m.\u001b[0m\u001b[0mastype\u001b[0m\u001b[1;33m(\u001b[0m\u001b[1;34m'float32'\u001b[0m\u001b[1;33m)\u001b[0m\u001b[1;33m\u001b[0m\u001b[0m\n",
      "\u001b[1;32m~\\AppData\\Local\\Continuum\\anaconda3\\envs\\mxnet-gpu\\lib\\site-packages\\mxnet\\ndarray\\ndarray.py\u001b[0m in \u001b[0;36mbackward\u001b[1;34m(self, out_grad, retain_graph, train_mode)\u001b[0m\n\u001b[0;32m   2214\u001b[0m             \u001b[0mctypes\u001b[0m\u001b[1;33m.\u001b[0m\u001b[0mc_int\u001b[0m\u001b[1;33m(\u001b[0m\u001b[0mtrain_mode\u001b[0m\u001b[1;33m)\u001b[0m\u001b[1;33m,\u001b[0m\u001b[1;33m\u001b[0m\u001b[0m\n\u001b[0;32m   2215\u001b[0m             \u001b[0mctypes\u001b[0m\u001b[1;33m.\u001b[0m\u001b[0mc_void_p\u001b[0m\u001b[1;33m(\u001b[0m\u001b[1;36m0\u001b[0m\u001b[1;33m)\u001b[0m\u001b[1;33m,\u001b[0m\u001b[1;33m\u001b[0m\u001b[0m\n\u001b[1;32m-> 2216\u001b[1;33m             ctypes.c_void_p(0)))\n\u001b[0m\u001b[0;32m   2217\u001b[0m \u001b[1;33m\u001b[0m\u001b[0m\n\u001b[0;32m   2218\u001b[0m     \u001b[1;32mdef\u001b[0m \u001b[0mtostype\u001b[0m\u001b[1;33m(\u001b[0m\u001b[0mself\u001b[0m\u001b[1;33m,\u001b[0m \u001b[0mstype\u001b[0m\u001b[1;33m)\u001b[0m\u001b[1;33m:\u001b[0m\u001b[1;33m\u001b[0m\u001b[0m\n",
      "\u001b[1;31mKeyboardInterrupt\u001b[0m: "
     ]
    }
   ],
   "source": [
    "adam_optimizer = mx.optimizer.Adam(learning_rate=0.5e-4, beta1=0.9, beta2=0.9)\n",
    "trainer = gluon.Trainer(net_RESNET.collect_params(), optimizer=adam_optimizer)\n",
    "train(net_RESNET, train_iter, valid_iter, batch_size, trainer, ctx, 10)"
   ]
  },
  {
   "cell_type": "code",
   "execution_count": 428,
   "metadata": {},
   "outputs": [
    {
     "name": "stdout",
     "output_type": "stream",
     "text": [
      "Accuracy of model is 89.3333 % .\n"
     ]
    }
   ],
   "source": [
    "print('Accuracy of model is %.4f %% .'%(100*evaluate_accuracy(test_iter, net_RESNET, ctx)))"
   ]
  },
  {
   "cell_type": "code",
   "execution_count": 37,
   "metadata": {},
   "outputs": [],
   "source": [
    "#net_RESNET.save_parameters('C:/Users/lab/Jupyter_Notebook/Guan-Ming/Midterm_Project/NN_params/train_test_mixed/RESNET34_DROPOUT_train_data_transposed.params')\n",
    "#===============================================================\n",
    "# num_jitter = 2\n",
    "# color_aug = gdata.vision.transforms.RandomColorJitter(brightness=0.4, contrast=0.3)\n",
    "#===============================================================\n",
    "# num_of_output_channels = [64, 128, 256, 512]\n",
    "# num_residuals = [3, 4, 6, 3]\n",
    "\n",
    "# net_RESNET = nn.Sequential() \n",
    "# net_RESNET.add(nn.Conv2D(64, kernel_size=7, strides=2, padding=3),\n",
    "#         nn.BatchNorm(), \n",
    "#         nn.Activation('relu'),\n",
    "#         nn.MaxPool2D(pool_size=3, strides=2, padding=1))\n",
    "\n",
    "# for i, num in enumerate(num_of_output_channels):\n",
    "#     if i==0:\n",
    "#         net_RESNET.add(resnet_block(num, num_residuals[i], first_block=True))\n",
    "#     else:\n",
    "#         net_RESNET.add(resnet_block(num, num_residuals[i]))\n",
    "#     net_RESNET.add(nn.Dropout(0.3))\n",
    "\n",
    "# net_RESNET.add(nn.GlobalAvgPool2D(), nn.Dense(6))\n",
    "#==============================================================="
   ]
  },
  {
   "cell_type": "code",
   "execution_count": 29,
   "metadata": {},
   "outputs": [],
   "source": [
    "#net_RESNET.save_parameters('C:/Users/lab/Jupyter_Notebook/Guan-Ming/Midterm_Project/NN_params/train_test_mixed/RESNET18_DROPOUT_train_data_transposed.params')\n",
    "#===============================================================\n",
    "# num_jitter = 2\n",
    "# color_aug = gdata.vision.transforms.RandomColorJitter(brightness=0.4, contrast=0.3)\n",
    "#===============================================================\n",
    "# num_of_output_channels = [64, 128, 256, 512]\n",
    "# num_residuals = 2\n",
    "\n",
    "# net_RESNET = nn.Sequential() \n",
    "# net_RESNET.add(nn.Conv2D(64, kernel_size=7, strides=2, padding=3),\n",
    "#         nn.BatchNorm(), \n",
    "#         nn.Activation('relu'),\n",
    "#         nn.MaxPool2D(pool_size=3, strides=2, padding=1))\n",
    "\n",
    "# for i, num in enumerate(num_of_output_channels):\n",
    "#     if i==0:\n",
    "#         net_RESNET.add(resnet_block(num, num_residuals, first_block=True))\n",
    "#     else:\n",
    "#         net_RESNET.add(resnet_block(num, num_residuals))\n",
    "#     net_RESNET.add(nn.Dropout(0.1))\n",
    "\n",
    "# net_RESNET.add(nn.GlobalAvgPool2D(), nn.Dense(6))\n",
    "#==============================================================="
   ]
  },
  {
   "cell_type": "code",
   "execution_count": 27,
   "metadata": {},
   "outputs": [],
   "source": [
    "#net_RESNET.save_parameters('net_RESNET18_DROPOUT_train_data_transposed.params')\n",
    "#===============================================================\n",
    "# num_jitter = 3\n",
    "# color_aug = gdata.vision.transforms.RandomColorJitter(brightness=0.3, contrast=0.6)\n",
    "#===============================================================\n",
    "# num_of_output_channels = [64, 128, 256, 512]\n",
    "# num_residuals = 2\n",
    "\n",
    "# net_RESNET = nn.Sequential() \n",
    "# net_RESNET.add(nn.Conv2D(64, kernel_size=7, strides=2, padding=3),\n",
    "#         nn.BatchNorm(), \n",
    "#         nn.Activation('relu'),\n",
    "#         nn.MaxPool2D(pool_size=3, strides=2, padding=1))\n",
    "\n",
    "# for i, num in enumerate(num_of_output_channels):\n",
    "#     if i==0:\n",
    "#         net_RESNET.add(resnet_block(num, num_residuals, first_block=True))\n",
    "#     else:\n",
    "#         net_RESNET.add(resnet_block(num, num_residuals))\n",
    "#     net_RESNET.add(nn.Dropout(0.1))\n",
    "\n",
    "# net_RESNET.add(nn.GlobalAvgPool2D(), nn.Dense(6))\n",
    "#==============================================================="
   ]
  },
  {
   "cell_type": "code",
   "execution_count": 33,
   "metadata": {},
   "outputs": [],
   "source": [
    "#net_RESNET.save_parameters('net_RESNET32_DROPOUT_train_data_transposed.params')\n",
    "#===============================================================\n",
    "# num_of_output_channels = [64, 128, 256, 512, 1024]\n",
    "# num_residuals = 3\n",
    "\n",
    "# net_RESNET = nn.Sequential() \n",
    "# net_RESNET.add(nn.Conv2D(64, kernel_size=7, strides=2, padding=3),\n",
    "#         nn.BatchNorm(), \n",
    "#         nn.Activation('relu'),\n",
    "#         nn.MaxPool2D(pool_size=3, strides=2, padding=1))\n",
    "\n",
    "# for i, num in enumerate(num_of_output_channels):\n",
    "#     if i==0:\n",
    "#         net_RESNET.add(resnet_block(num, num_residuals, first_block=True))\n",
    "#     else:\n",
    "#         net_RESNET.add(resnet_block(num, num_residuals))\n",
    "#     net_RESNET.add(nn.Dropout(0.1))\n",
    "\n",
    "# net_RESNET.add(nn.GlobalAvgPool2D(), nn.Dense(6))\n",
    "#==============================================================="
   ]
  },
  {
   "cell_type": "code",
   "execution_count": 41,
   "metadata": {},
   "outputs": [
    {
     "data": {
      "text/plain": [
       "6828"
      ]
     },
     "execution_count": 41,
     "metadata": {},
     "output_type": "execute_result"
    }
   ],
   "source": [
    "len(test_dataset)+len(train_dataset)"
   ]
  },
  {
   "cell_type": "code",
   "execution_count": 54,
   "metadata": {},
   "outputs": [],
   "source": [
    "class DenseBlock(nn.Block): \n",
    "    def __init__(self, num_convs, num_channels, **kwargs):\n",
    "        super(DenseBlock, self).__init__(**kwargs) \n",
    "        self.net = nn.Sequential() \n",
    "        for _ in range(num_convs): \n",
    "            self.net.add(conv_block(num_channels))\n",
    "            \n",
    "    def forward(self, X):\n",
    "        for blk in self.net:\n",
    "            Y = blk(X)\n",
    "            # Concatenate the input and output of each block on the channel \n",
    "            # dimension\n",
    "            X = nd.concat(X, Y, dim=1) \n",
    "\n",
    "        return X\n",
    "    \n",
    "def transition_block(num_channels):\n",
    "    blk = nn.Sequential() \n",
    "    blk.add(nn.BatchNorm(), \n",
    "            nn.Activation('relu'),\n",
    "            nn.Conv2D(num_channels, kernel_size=1), \n",
    "            nn.AvgPool2D(pool_size=2, strides=2))\n",
    "    return blk\n",
    "\n",
    "def conv_block(num_channels): \n",
    "    blk = nn.Sequential() \n",
    "    blk.add(nn.BatchNorm(), \n",
    "            nn.Activation('relu'),\n",
    "            nn.Conv2D(num_channels, kernel_size=3, padding=1))\n",
    "    return blk"
   ]
  },
  {
   "cell_type": "code",
   "execution_count": 44,
   "metadata": {},
   "outputs": [],
   "source": [
    "net_DENSENET = nn.Sequential()\n",
    "net_DENSENET.add(nn.Conv2D(64, kernel_size=7, strides=2, padding=3), \n",
    "        nn.BatchNorm(),\n",
    "        nn.Activation('relu'), \n",
    "        nn.MaxPool2D(pool_size=3, strides=2, padding=1))\n",
    "\n",
    "num_channels, growth_rate = 64, 16\n",
    "num_convs_in_dense_blocks = [4, 4, 4, 4]\n",
    "\n",
    "for i, num_convs in enumerate(num_convs_in_dense_blocks):\n",
    "    net_DENSENET.add(DenseBlock(num_convs, growth_rate))\n",
    "    net_DENSENET.add(nn.Dropout(0.15))\n",
    "#     # This is the number of output channels in the previous dense block \n",
    "    num_channels += num_convs * growth_rate\n",
    "    # A transition layer that haves the number of channels is added between\n",
    "    # the dense blocks \n",
    "    if i != len(num_convs_in_dense_blocks) - 1: \n",
    "        num_channels //= 2\n",
    "        net_DENSENET.add(transition_block(num_channels))\n",
    "                    \n",
    "net_DENSENET.add(nn.BatchNorm(), \n",
    "        nn.Activation('relu'), \n",
    "        nn.GlobalAvgPool2D(),\n",
    "        nn.Dense(6))\n",
    "\n",
    "net_DENSENET.initialize(ctx=ctx, init=mx.init.Xavier(rnd_type ='gaussian', factor_type='in', magnitude=2.0))"
   ]
  },
  {
   "cell_type": "code",
   "execution_count": 45,
   "metadata": {},
   "outputs": [
    {
     "name": "stdout",
     "output_type": "stream",
     "text": [
      "--------------------------------------------------------------------------------\n",
      "        Layer (type)                                Output Shape         Param #\n",
      "================================================================================\n",
      "               Input                           (64, 3, 256, 256)               0\n",
      "            Conv2D-1                          (64, 64, 128, 128)            9472\n",
      "         BatchNorm-2                          (64, 64, 128, 128)             256\n",
      "        Activation-3                          (64, 64, 128, 128)               0\n",
      "         MaxPool2D-4                            (64, 64, 64, 64)               0\n",
      "         BatchNorm-5                            (64, 64, 64, 64)             256\n",
      "        Activation-6                            (64, 64, 64, 64)               0\n",
      "            Conv2D-7                            (64, 16, 64, 64)            9232\n",
      "         BatchNorm-8                            (64, 80, 64, 64)             320\n",
      "        Activation-9                            (64, 80, 64, 64)               0\n",
      "           Conv2D-10                            (64, 16, 64, 64)           11536\n",
      "        BatchNorm-11                            (64, 96, 64, 64)             384\n",
      "       Activation-12                            (64, 96, 64, 64)               0\n",
      "           Conv2D-13                            (64, 16, 64, 64)           13840\n",
      "        BatchNorm-14                           (64, 112, 64, 64)             448\n",
      "       Activation-15                           (64, 112, 64, 64)               0\n",
      "           Conv2D-16                            (64, 16, 64, 64)           16144\n",
      "       DenseBlock-17                           (64, 128, 64, 64)               0\n",
      "          Dropout-18                           (64, 128, 64, 64)               0\n",
      "        BatchNorm-19                           (64, 128, 64, 64)             512\n",
      "       Activation-20                           (64, 128, 64, 64)               0\n",
      "           Conv2D-21                            (64, 64, 64, 64)            8256\n",
      "        AvgPool2D-22                            (64, 64, 32, 32)               0\n",
      "        BatchNorm-23                            (64, 64, 32, 32)             256\n",
      "       Activation-24                            (64, 64, 32, 32)               0\n",
      "           Conv2D-25                            (64, 16, 32, 32)            9232\n",
      "        BatchNorm-26                            (64, 80, 32, 32)             320\n",
      "       Activation-27                            (64, 80, 32, 32)               0\n",
      "           Conv2D-28                            (64, 16, 32, 32)           11536\n",
      "        BatchNorm-29                            (64, 96, 32, 32)             384\n",
      "       Activation-30                            (64, 96, 32, 32)               0\n",
      "           Conv2D-31                            (64, 16, 32, 32)           13840\n",
      "        BatchNorm-32                           (64, 112, 32, 32)             448\n",
      "       Activation-33                           (64, 112, 32, 32)               0\n",
      "           Conv2D-34                            (64, 16, 32, 32)           16144\n",
      "       DenseBlock-35                           (64, 128, 32, 32)               0\n",
      "          Dropout-36                           (64, 128, 32, 32)               0\n",
      "        BatchNorm-37                           (64, 128, 32, 32)             512\n",
      "       Activation-38                           (64, 128, 32, 32)               0\n",
      "           Conv2D-39                            (64, 64, 32, 32)            8256\n",
      "        AvgPool2D-40                            (64, 64, 16, 16)               0\n",
      "        BatchNorm-41                            (64, 64, 16, 16)             256\n",
      "       Activation-42                            (64, 64, 16, 16)               0\n",
      "           Conv2D-43                            (64, 16, 16, 16)            9232\n",
      "        BatchNorm-44                            (64, 80, 16, 16)             320\n",
      "       Activation-45                            (64, 80, 16, 16)               0\n",
      "           Conv2D-46                            (64, 16, 16, 16)           11536\n",
      "        BatchNorm-47                            (64, 96, 16, 16)             384\n",
      "       Activation-48                            (64, 96, 16, 16)               0\n",
      "           Conv2D-49                            (64, 16, 16, 16)           13840\n",
      "        BatchNorm-50                           (64, 112, 16, 16)             448\n",
      "       Activation-51                           (64, 112, 16, 16)               0\n",
      "           Conv2D-52                            (64, 16, 16, 16)           16144\n",
      "       DenseBlock-53                           (64, 128, 16, 16)               0\n",
      "          Dropout-54                           (64, 128, 16, 16)               0\n",
      "        BatchNorm-55                           (64, 128, 16, 16)             512\n",
      "       Activation-56                           (64, 128, 16, 16)               0\n",
      "           Conv2D-57                            (64, 64, 16, 16)            8256\n",
      "        AvgPool2D-58                              (64, 64, 8, 8)               0\n",
      "        BatchNorm-59                              (64, 64, 8, 8)             256\n",
      "       Activation-60                              (64, 64, 8, 8)               0\n",
      "           Conv2D-61                              (64, 16, 8, 8)            9232\n",
      "        BatchNorm-62                              (64, 80, 8, 8)             320\n",
      "       Activation-63                              (64, 80, 8, 8)               0\n",
      "           Conv2D-64                              (64, 16, 8, 8)           11536\n",
      "        BatchNorm-65                              (64, 96, 8, 8)             384\n",
      "       Activation-66                              (64, 96, 8, 8)               0\n",
      "           Conv2D-67                              (64, 16, 8, 8)           13840\n",
      "        BatchNorm-68                             (64, 112, 8, 8)             448\n",
      "       Activation-69                             (64, 112, 8, 8)               0\n",
      "           Conv2D-70                              (64, 16, 8, 8)           16144\n",
      "       DenseBlock-71                             (64, 128, 8, 8)               0\n",
      "          Dropout-72                             (64, 128, 8, 8)               0\n",
      "        BatchNorm-73                             (64, 128, 8, 8)             512\n",
      "       Activation-74                             (64, 128, 8, 8)               0\n",
      "  GlobalAvgPool2D-75                             (64, 128, 1, 1)               0\n",
      "            Dense-76                                     (64, 6)             774\n",
      "================================================================================\n",
      "Parameters in forward computation graph, duplicate included\n",
      "   Total params: 245958\n",
      "   Trainable params: 241990\n",
      "   Non-trainable params: 3968\n",
      "Shared params in forward computation graph: 0\n",
      "Unique parameters in model: 245958\n",
      "--------------------------------------------------------------------------------\n"
     ]
    }
   ],
   "source": [
    "for X,_ in train_iter:\n",
    "    net_DENSENET.summary(X.as_in_context(ctx))\n",
    "    break"
   ]
  },
  {
   "cell_type": "code",
   "execution_count": 52,
   "metadata": {},
   "outputs": [
    {
     "name": "stdout",
     "output_type": "stream",
     "text": [
      "training on gpu(0)\n",
      "epoch 1, loss 0.1561, train acc 0.950, test acc 0.820, time 52.5 sec\n",
      "epoch 2, loss 0.1157, train acc 0.964, test acc 0.838, time 52.2 sec\n",
      "epoch 3, loss 0.1154, train acc 0.962, test acc 0.873, time 52.1 sec\n",
      "epoch 4, loss 0.1110, train acc 0.965, test acc 0.780, time 52.3 sec\n",
      "epoch 5, loss 0.0923, train acc 0.971, test acc 0.927, time 52.1 sec\n",
      "epoch 6, loss 0.1025, train acc 0.967, test acc 0.896, time 51.8 sec\n",
      "epoch 7, loss 0.0885, train acc 0.973, test acc 0.928, time 52.1 sec\n",
      "epoch 8, loss 0.0788, train acc 0.974, test acc 0.897, time 51.8 sec\n",
      "epoch 9, loss 0.0719, train acc 0.978, test acc 0.875, time 51.8 sec\n",
      "epoch 10, loss 0.0728, train acc 0.977, test acc 0.921, time 51.6 sec\n",
      "epoch 11, loss 0.0590, train acc 0.982, test acc 0.962, time 51.8 sec\n",
      "epoch 12, loss 0.0653, train acc 0.979, test acc 0.953, time 51.6 sec\n",
      "epoch 13, loss 0.0612, train acc 0.981, test acc 0.953, time 51.7 sec\n",
      "epoch 14, loss 0.0548, train acc 0.982, test acc 0.964, time 52.0 sec\n",
      "epoch 15, loss 0.0539, train acc 0.984, test acc 0.982, time 51.8 sec\n",
      "epoch 16, loss 0.0563, train acc 0.981, test acc 0.951, time 51.7 sec\n",
      "epoch 17, loss 0.0452, train acc 0.986, test acc 0.945, time 51.9 sec\n",
      "epoch 18, loss 0.0512, train acc 0.984, test acc 0.943, time 51.5 sec\n",
      "epoch 19, loss 0.0527, train acc 0.985, test acc 0.970, time 51.6 sec\n",
      "epoch 20, loss 0.0495, train acc 0.983, test acc 0.903, time 51.8 sec\n",
      "epoch 21, loss 0.0384, train acc 0.989, test acc 0.957, time 51.9 sec\n",
      "epoch 22, loss 0.0428, train acc 0.986, test acc 0.964, time 51.9 sec\n",
      "epoch 23, loss 0.0402, train acc 0.985, test acc 0.959, time 51.6 sec\n",
      "epoch 24, loss 0.0386, train acc 0.990, test acc 0.983, time 51.5 sec\n",
      "epoch 25, loss 0.0412, train acc 0.987, test acc 0.937, time 51.8 sec\n",
      "epoch 26, loss 0.0399, train acc 0.988, test acc 0.969, time 51.8 sec\n",
      "epoch 27, loss 0.0316, train acc 0.990, test acc 0.960, time 51.6 sec\n",
      "epoch 28, loss 0.0373, train acc 0.987, test acc 0.977, time 51.7 sec\n",
      "epoch 29, loss 0.0307, train acc 0.991, test acc 0.958, time 51.5 sec\n",
      "epoch 30, loss 0.0323, train acc 0.990, test acc 0.963, time 51.7 sec\n",
      "epoch 31, loss 0.0324, train acc 0.990, test acc 0.940, time 51.7 sec\n",
      "epoch 32, loss 0.0258, train acc 0.992, test acc 0.968, time 51.6 sec\n",
      "epoch 33, loss 0.0215, train acc 0.994, test acc 0.977, time 51.7 sec\n",
      "epoch 34, loss 0.0324, train acc 0.989, test acc 0.984, time 51.7 sec\n",
      "epoch 35, loss 0.0281, train acc 0.991, test acc 0.956, time 52.0 sec\n",
      "epoch 36, loss 0.0219, train acc 0.994, test acc 0.960, time 52.0 sec\n",
      "epoch 37, loss 0.0228, train acc 0.991, test acc 0.949, time 51.8 sec\n",
      "epoch 38, loss 0.0261, train acc 0.991, test acc 0.958, time 51.8 sec\n",
      "epoch 39, loss 0.0255, train acc 0.992, test acc 0.978, time 51.7 sec\n",
      "epoch 40, loss 0.0215, train acc 0.994, test acc 0.957, time 51.9 sec\n",
      "Average time per epoch is 51.8157 s.\n"
     ]
    }
   ],
   "source": [
    "adam_optimizer = mx.optimizer.Adam(learning_rate=8e-4, beta1=0.9, beta2=0.9)\n",
    "trainer = gluon.Trainer(net_DENSENET.collect_params(), optimizer=adam_optimizer)\n",
    "train(net_DENSENET, train_iter, valid_iter, batch_size, trainer, ctx, 40)"
   ]
  },
  {
   "cell_type": "code",
   "execution_count": 53,
   "metadata": {},
   "outputs": [
    {
     "name": "stdout",
     "output_type": "stream",
     "text": [
      "Accuracy of model is 76.6667 % .\n"
     ]
    }
   ],
   "source": [
    "print('Accuracy of model is %.4f %% .'%(100*evaluate_accuracy(test_iter, net_DENSENET, ctx)))"
   ]
  },
  {
   "cell_type": "code",
   "execution_count": 25,
   "metadata": {},
   "outputs": [],
   "source": [
    "#net_DENSENET.save_parameters('net_DENSENET_5DB_DROPOUT.params')\n",
    "#===============================================================\n",
    "# net_DENSENET = nn.Sequential()\n",
    "# net_DENSENET.add(nn.Conv2D(64, kernel_size=7, strides=2, padding=3), \n",
    "#         nn.BatchNorm(),\n",
    "#         nn.Activation('relu'), \n",
    "#         nn.MaxPool2D(pool_size=3, strides=2, padding=1))\n",
    "\n",
    "# num_channels, growth_rate = 32, 16\n",
    "# num_convs_in_dense_blocks = [4, 4, 4, 4, 4]\n",
    "\n",
    "# for i, num_convs in enumerate(num_convs_in_dense_blocks):\n",
    "#     net_DENSENET.add(DenseBlock(num_convs, growth_rate))\n",
    "#     net_DENSENET.add(nn.Dropout(0.15))\n",
    "# #     # This is the number of output channels in the previous dense block \n",
    "#     num_channels += num_convs * growth_rate\n",
    "#     # A transition layer that haves the number of channels is added between\n",
    "#     # the dense blocks \n",
    "#     if i != len(num_convs_in_dense_blocks) - 1: \n",
    "#         num_channels //= 2\n",
    "#         net_DENSENET.add(transition_block(num_channels))\n",
    "                    \n",
    "# net_DENSENET.add(nn.BatchNorm(), \n",
    "#         nn.Activation('relu'), \n",
    "#         nn.GlobalAvgPool2D(),\n",
    "#         nn.Dense(6))\n",
    "#==============================================================="
   ]
  },
  {
   "cell_type": "code",
   "execution_count": 475,
   "metadata": {},
   "outputs": [],
   "source": [
    "files = os.listdir(output_folder)\n",
    "pictures_list = []\n",
    "for f in files:\n",
    "    if '.jpg' in f:\n",
    "        pictures_list.append(f)\n",
    "test_pic = nd.zeros((1,256,256,3))\n",
    "file_name = 'five_78.jpg'\n",
    "test_img = image.imread('D:/LectureData/Introduction_to_Deep_Learning/Midterm_Project/temp/resized_'+file_name)\n",
    "test_pic[0] = test_img.copy()\n",
    "#test_pic = test_data_x[250].reshape(1,256,256,3)\n",
    "#test_pic = gdata.ArrayDataset(test_pic, test_data_y[250])\n",
    "if 'zero' in file_name:\n",
    "    y_correct = 0\n",
    "elif 'one' in file_name:\n",
    "    y_correct = 1\n",
    "elif 'two' in file_name:\n",
    "    y_correct = 2\n",
    "elif 'three' in file_name:\n",
    "    y_correct = 3\n",
    "elif 'four' in file_name:\n",
    "    y_correct = 4\n",
    "elif 'five' in file_name:\n",
    "    y_correct = 5\n",
    "else:\n",
    "    raise RuntimeError('Please name the picture correctly!')\n",
    "\n",
    "test_pic = gdata.ArrayDataset(test_pic, np.array([y_correct]))\n",
    "test_pic = gdata.DataLoader(test_pic.transform_first(transformer), batch_size = 1, shuffle=False, num_workers=num_workers)"
   ]
  },
  {
   "cell_type": "code",
   "execution_count": 476,
   "metadata": {},
   "outputs": [
    {
     "name": "stdout",
     "output_type": "stream",
     "text": [
      "4 \n",
      "[5]\n",
      "<NDArray 1 @cpu(0)>\n"
     ]
    },
    {
     "data": {
      "image/png": "[encoded data removed]",
      "text/plain": [
       "<Figure size 432x288 with 1 Axes>"
      ]
     },
     "metadata": {},
     "output_type": "display_data"
    }
   ],
   "source": [
    "for X,y in test_pic:\n",
    "    print(net_RESNET(X.as_in_context(ctx))[0].asnumpy().argmax(), y)\n",
    "    break\n",
    "plt.imshow(test_img.asnumpy().astype(np.uint8))\n",
    "plt.axis('off')\n",
    "plt.show()"
   ]
  },
  {
   "cell_type": "code",
   "execution_count": 433,
   "metadata": {},
   "outputs": [],
   "source": [
    "y_pred = np.zeros(len(test_data_y))\n",
    "count = 0\n",
    "for X, y in test_iter:\n",
    "    y_pred[count:count+batch_size] = net_RESNET(X.as_in_context(ctx)).asnumpy().argmax(axis=1)\n",
    "    count += batch_size"
   ]
  },
  {
   "cell_type": "code",
   "execution_count": 434,
   "metadata": {},
   "outputs": [
    {
     "name": "stdout",
     "output_type": "stream",
     "text": [
      "[[47  3  0  0  0  0]\n",
      " [ 3 45  2  0  0  0]\n",
      " [ 0  1 47  1  1  0]\n",
      " [ 3  1  0 43  3  0]\n",
      " [ 2  0  0  0 48  0]\n",
      " [ 2  0  4  2  4 38]]\n",
      "\n",
      "\n",
      "Accuracy for 0 is 94.00% .\n",
      "Accuracy for 1 is 90.00% .\n",
      "Accuracy for 2 is 94.00% .\n",
      "Accuracy for 3 is 86.00% .\n",
      "Accuracy for 4 is 96.00% .\n",
      "Accuracy for 5 is 76.00% .\n"
     ]
    }
   ],
   "source": [
    "result = confusion_matrix(test_data_y.asnumpy(), y_pred)\n",
    "wrong_index = np.argwhere(y_pred!=test_data_y.asnumpy())\n",
    "print(result)\n",
    "print('\\n')\n",
    "for gestures in range(6):\n",
    "    print('Accuracy for %d is %.2f%% .'%(gestures, 100*result[gestures][gestures]/result[gestures].sum()))"
   ]
  },
  {
   "cell_type": "code",
   "execution_count": 264,
   "metadata": {},
   "outputs": [],
   "source": [
    "from ipywidgets import interact, IntSlider"
   ]
  },
  {
   "cell_type": "code",
   "execution_count": 272,
   "metadata": {},
   "outputs": [
    {
     "name": "stdout",
     "output_type": "stream",
     "text": [
      "Total 29 wrong predcition. Slide to see the corresponding image.\n"
     ]
    },
    {
     "data": {
      "application/vnd.jupyter.widget-view+json": {
       "model_id": "74d27a51be0f48099d2d38fefdbf316e",
       "version_major": 2,
       "version_minor": 0
      },
      "text/plain": [
       "interactive(children=(IntSlider(value=0, description='index_selected', max=28), Output()), _dom_classes=('widg…"
      ]
     },
     "metadata": {},
     "output_type": "display_data"
    }
   ],
   "source": [
    "def PLOT_WRONG_PREDICTION(index_selected):\n",
    "    print(index_selected)\n",
    "    plt.imshow(test_data_x[wrong_index[index_selected]][0].asnumpy().astype(np.uint8))\n",
    "    plt.axis('off')\n",
    "    plt.title(\"NN Recognizes as %d .\\nReal Answer is %d .\" %(y_pred[wrong_index[index_selected]], test_data_y[wrong_index[index_selected]].asscalar()) )\n",
    "    \n",
    "print('Total %d wrong predcition. Slide to see the corresponding image.' %len(wrong_index))\n",
    "interact(PLOT_WRONG_PREDICTION, index_selected=IntSlider(value=0, min=0, max=len(wrong_index)-1));"
   ]
  },
  {
   "cell_type": "code",
   "execution_count": 248,
   "metadata": {},
   "outputs": [
    {
     "data": {
      "text/plain": [
       "(256, 256, 3)"
      ]
     },
     "execution_count": 248,
     "metadata": {},
     "output_type": "execute_result"
    }
   ],
   "source": [
    "test_data_x[wrong_index[2]][0].asnumpy().astype(np.int8).shape"
   ]
  }
 ],
 "metadata": {
  "kernelspec": {
   "display_name": "Python 3",
   "language": "python",
   "name": "python3"
  },
  "language_info": {
   "codemirror_mode": {
    "name": "ipython",
    "version": 3
   },
   "file_extension": ".py",
   "mimetype": "text/x-python",
   "name": "python",
   "nbconvert_exporter": "python",
   "pygments_lexer": "ipython3",
   "version": "3.5.5"
  }
 },
 "nbformat": 4,
 "nbformat_minor": 2
}
